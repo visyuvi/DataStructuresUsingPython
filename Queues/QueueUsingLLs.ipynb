{
 "cells": [
  {
   "cell_type": "code",
   "execution_count": 1,
   "id": "0bcf3e4f",
   "metadata": {},
   "outputs": [],
   "source": [
    "class Node:\n",
    "    \n",
    "    def __init__(self,value):\n",
    "        self.data = value\n",
    "        self.next = None\n",
    "        "
   ]
  },
  {
   "cell_type": "code",
   "execution_count": 104,
   "id": "eb67fdb1",
   "metadata": {},
   "outputs": [],
   "source": [
    "class Queue:\n",
    "    \n",
    "    def __init__(self):\n",
    "        self.front=None\n",
    "        self.rear=None\n",
    "        \n",
    "    def enqueue(self,value):\n",
    "        \n",
    "        new_node = Node(value)\n",
    "        \n",
    "        if(self.rear == None):\n",
    "            self.front = new_node\n",
    "            self.rear = self.front\n",
    "        else:\n",
    "            self.rear.next = new_node\n",
    "            self.rear = new_node\n",
    "        \n",
    "    def is_empty(self):\n",
    "        return self.front == None\n",
    "    \n",
    "    def front_item(self):\n",
    "        \n",
    "        if self.front == None:\n",
    "            return \"empty\"\n",
    "        \n",
    "        return self.front.data\n",
    "    \n",
    "     \n",
    "    def rear_item(self):\n",
    "        \n",
    "        if self.rear == None:\n",
    "            return \"empty\"\n",
    "        \n",
    "        return self.rear.data\n",
    "    \n",
    "    \n",
    "    def size(self):\n",
    "        counter = 0\n",
    "        temp = self.front\n",
    "        \n",
    "        while(temp!=None):\n",
    "            counter += 1\n",
    "            temp = temp.next\n",
    "        \n",
    "        return counter\n",
    "        \n",
    "\n",
    "        \n",
    "    def dequeue(self):\n",
    "        \n",
    "        if self.front == None:\n",
    "            return \"Queue is empty\"\n",
    "        \n",
    "        self.front = self.front.next\n",
    "        if self.front == None:\n",
    "            self.rear = None\n",
    "        \n",
    "        \n",
    "    def traverse(self):\n",
    "        \n",
    "        temp = self.front\n",
    "        \n",
    "        while(temp!=None):\n",
    "            print(temp.data, end= ' ')\n",
    "            temp = temp.next"
   ]
  },
  {
   "cell_type": "code",
   "execution_count": 105,
   "id": "82b36d77",
   "metadata": {},
   "outputs": [],
   "source": [
    "q = Queue()"
   ]
  },
  {
   "cell_type": "code",
   "execution_count": 113,
   "id": "29b4c5c2",
   "metadata": {},
   "outputs": [],
   "source": [
    "q.enqueue(4)\n",
    "q.enqueue(5)\n",
    "q.enqueue(7)"
   ]
  },
  {
   "cell_type": "code",
   "execution_count": 107,
   "id": "42bff0b5",
   "metadata": {},
   "outputs": [
    {
     "name": "stdout",
     "output_type": "stream",
     "text": [
      "4 5 7 "
     ]
    }
   ],
   "source": [
    "q.traverse()"
   ]
  },
  {
   "cell_type": "code",
   "execution_count": 108,
   "id": "b365dd3e",
   "metadata": {},
   "outputs": [],
   "source": [
    "q.dequeue()\n",
    "q.dequeue()\n",
    "q.dequeue()\n",
    "q.traverse()\n"
   ]
  },
  {
   "cell_type": "code",
   "execution_count": 109,
   "id": "59e929ee",
   "metadata": {},
   "outputs": [
    {
     "data": {
      "text/plain": [
       "'Queue is empty'"
      ]
     },
     "execution_count": 109,
     "metadata": {},
     "output_type": "execute_result"
    }
   ],
   "source": [
    "q.dequeue()"
   ]
  },
  {
   "cell_type": "code",
   "execution_count": 110,
   "id": "95fc7b1e",
   "metadata": {},
   "outputs": [],
   "source": [
    "q.traverse()"
   ]
  },
  {
   "cell_type": "code",
   "execution_count": 111,
   "id": "d70bc0af",
   "metadata": {},
   "outputs": [
    {
     "data": {
      "text/plain": [
       "True"
      ]
     },
     "execution_count": 111,
     "metadata": {},
     "output_type": "execute_result"
    }
   ],
   "source": [
    "q.is_empty()"
   ]
  },
  {
   "cell_type": "code",
   "execution_count": 112,
   "id": "168adc83",
   "metadata": {},
   "outputs": [
    {
     "data": {
      "text/plain": [
       "0"
      ]
     },
     "execution_count": 112,
     "metadata": {},
     "output_type": "execute_result"
    }
   ],
   "source": [
    "q.size()"
   ]
  },
  {
   "cell_type": "code",
   "execution_count": 116,
   "id": "80231af4",
   "metadata": {},
   "outputs": [
    {
     "data": {
      "text/plain": [
       "7"
      ]
     },
     "execution_count": 116,
     "metadata": {},
     "output_type": "execute_result"
    }
   ],
   "source": [
    "q.rear_item()"
   ]
  },
  {
   "cell_type": "code",
   "execution_count": null,
   "id": "8c08cb4e",
   "metadata": {},
   "outputs": [],
   "source": []
  }
 ],
 "metadata": {
  "kernelspec": {
   "display_name": "Python 3 (ipykernel)",
   "language": "python",
   "name": "python3"
  },
  "language_info": {
   "codemirror_mode": {
    "name": "ipython",
    "version": 3
   },
   "file_extension": ".py",
   "mimetype": "text/x-python",
   "name": "python",
   "nbconvert_exporter": "python",
   "pygments_lexer": "ipython3",
   "version": "3.9.16"
  }
 },
 "nbformat": 4,
 "nbformat_minor": 5
}
