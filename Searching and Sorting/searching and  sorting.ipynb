{
 "cells": [
  {
   "cell_type": "code",
   "execution_count": 1,
   "id": "3732e441",
   "metadata": {},
   "outputs": [],
   "source": [
    "#Linear Search\n",
    "\n",
    "#Brute Force"
   ]
  },
  {
   "cell_type": "code",
   "execution_count": 2,
   "id": "962fca09",
   "metadata": {},
   "outputs": [],
   "source": [
    "def linear_search(arr,item):\n",
    "    for i in range(len(arr)):\n",
    "        if arr[i] == item:\n",
    "            return i\n",
    "    return \"not found\""
   ]
  },
  {
   "cell_type": "code",
   "execution_count": 3,
   "id": "c9be80a9",
   "metadata": {},
   "outputs": [],
   "source": [
    "arr = [4,2,1,55,21,200,12]"
   ]
  },
  {
   "cell_type": "code",
   "execution_count": 8,
   "id": "eee5e439",
   "metadata": {},
   "outputs": [
    {
     "data": {
      "text/plain": [
       "'not found'"
      ]
     },
     "execution_count": 8,
     "metadata": {},
     "output_type": "execute_result"
    }
   ],
   "source": [
    "linear_search(arr,40)"
   ]
  },
  {
   "cell_type": "code",
   "execution_count": 10,
   "id": "7c0a54bc",
   "metadata": {},
   "outputs": [],
   "source": [
    "#time complexity is O(n)\n",
    "#no sorting required"
   ]
  },
  {
   "cell_type": "code",
   "execution_count": null,
   "id": "70e1eeb5",
   "metadata": {},
   "outputs": [],
   "source": []
  },
  {
   "cell_type": "code",
   "execution_count": 7,
   "id": "3157a65c",
   "metadata": {},
   "outputs": [],
   "source": [
    "#Binary search\n",
    "\n",
    "#Works  on Sorted array only\n",
    "\n",
    "def binary_search(arr,low,high,item):\n",
    "    \n",
    "    if low <= high:\n",
    "        #search\n",
    "        \n",
    "        mid = (low+high)//2\n",
    "        \n",
    "        if arr[mid]==item:\n",
    "            return mid\n",
    "        \n",
    "        elif arr[mid] > item:\n",
    "            return binary_search(arr,low,mid-1,item)\n",
    "            \n",
    "        else:\n",
    "            return binary_search(arr,mid+1,high,item)\n",
    "            \n",
    "\n",
    "    else:\n",
    "        return -1\n",
    "        \n",
    "    "
   ]
  },
  {
   "cell_type": "code",
   "execution_count": 8,
   "id": "1d36b78d",
   "metadata": {},
   "outputs": [
    {
     "name": "stdout",
     "output_type": "stream",
     "text": [
      "-1\n"
     ]
    }
   ],
   "source": [
    "arr = [1,2,3,4,5,6,7,12,99,199]\n",
    "print(binary_search(arr,0,len(arr)-1,70))"
   ]
  },
  {
   "cell_type": "code",
   "execution_count": 9,
   "id": "bf1d8c3a",
   "metadata": {},
   "outputs": [],
   "source": [
    "#sorting"
   ]
  },
  {
   "cell_type": "code",
   "execution_count": 10,
   "id": "eabe3f22",
   "metadata": {},
   "outputs": [],
   "source": [
    "def is_sorted(arr):\n",
    "    \n",
    "    sorted = True\n",
    "    \n",
    "    for i in range(len(arr)-1):\n",
    "        if(arr[i]>arr[i+1]):\n",
    "            return False\n",
    "    \n",
    "    return sorted "
   ]
  },
  {
   "cell_type": "code",
   "execution_count": 40,
   "id": "d7f867cc",
   "metadata": {},
   "outputs": [],
   "source": [
    "arr = [4,2,1,55,21,200,12]"
   ]
  },
  {
   "cell_type": "code",
   "execution_count": 6,
   "id": "d17cb11f",
   "metadata": {},
   "outputs": [
    {
     "data": {
      "text/plain": [
       "True"
      ]
     },
     "execution_count": 6,
     "metadata": {},
     "output_type": "execute_result"
    }
   ],
   "source": [
    "is_sorted(arr)"
   ]
  },
  {
   "cell_type": "code",
   "execution_count": 12,
   "id": "184d73ba",
   "metadata": {},
   "outputs": [],
   "source": [
    "# Monkey sort"
   ]
  },
  {
   "cell_type": "code",
   "execution_count": 38,
   "id": "b6d69469",
   "metadata": {},
   "outputs": [],
   "source": [
    "import random\n",
    "\n",
    "arr= [11,4,8,2]\n"
   ]
  },
  {
   "cell_type": "markdown",
   "id": "5ad8ba85",
   "metadata": {},
   "source": []
  },
  {
   "cell_type": "code",
   "execution_count": 28,
   "id": "9f6315a4",
   "metadata": {},
   "outputs": [],
   "source": [
    "def monkey_sort(arr):\n",
    "    while not is_sorted(arr):\n",
    "        random.shuffle(arr)\n",
    "        print(arr)\n",
    "    print(arr)"
   ]
  },
  {
   "cell_type": "code",
   "execution_count": 29,
   "id": "a0300af1",
   "metadata": {},
   "outputs": [
    {
     "name": "stdout",
     "output_type": "stream",
     "text": [
      "[2, 11, 8, 4]\n",
      "[4, 2, 8, 11]\n",
      "[11, 8, 2, 4]\n",
      "[2, 8, 11, 4]\n",
      "[4, 2, 11, 8]\n",
      "[11, 8, 4, 2]\n",
      "[11, 2, 8, 4]\n",
      "[2, 11, 4, 8]\n",
      "[4, 8, 11, 2]\n",
      "[4, 11, 2, 8]\n",
      "[8, 2, 11, 4]\n",
      "[4, 11, 8, 2]\n",
      "[8, 2, 11, 4]\n",
      "[4, 11, 2, 8]\n",
      "[4, 11, 8, 2]\n",
      "[4, 2, 11, 8]\n",
      "[11, 2, 8, 4]\n",
      "[4, 8, 2, 11]\n",
      "[11, 8, 2, 4]\n",
      "[11, 8, 2, 4]\n",
      "[2, 8, 11, 4]\n",
      "[11, 8, 4, 2]\n",
      "[2, 4, 8, 11]\n",
      "[2, 4, 8, 11]\n"
     ]
    }
   ],
   "source": [
    "monkey_sort(arr)"
   ]
  },
  {
   "cell_type": "code",
   "execution_count": 30,
   "id": "1003a250",
   "metadata": {},
   "outputs": [],
   "source": [
    "#sleep sort"
   ]
  },
  {
   "cell_type": "code",
   "execution_count": 31,
   "id": "4b9bc4ac",
   "metadata": {},
   "outputs": [],
   "source": [
    "#bubble sort from scratch\n"
   ]
  },
  {
   "cell_type": "code",
   "execution_count": 47,
   "id": "ecbc1190",
   "metadata": {},
   "outputs": [],
   "source": [
    "def adaptive_bubble_sort(arr):\n",
    "    for i in range(len(arr)-1):\n",
    "        flag = 0\n",
    "        for j in range(len(arr)-1 -i):\n",
    "            if(arr[j]>arr[j+1]):\n",
    "                arr[j],arr[j+1] = arr[j+1],arr[j]\n",
    "                flag =  1\n",
    "        if flag==0:\n",
    "            break\n",
    "    \n",
    "    print(arr)"
   ]
  },
  {
   "cell_type": "code",
   "execution_count": 48,
   "id": "c8a8c807",
   "metadata": {},
   "outputs": [
    {
     "name": "stdout",
     "output_type": "stream",
     "text": [
      "[2, 3, 4, 12, 21, 55, 200]\n"
     ]
    }
   ],
   "source": [
    "arr = [300, 2, 4, 12, 21, 55, 200]\n",
    "adaptive_bubble_sort(arr)"
   ]
  },
  {
   "cell_type": "code",
   "execution_count": 49,
   "id": "a56c6da6",
   "metadata": {},
   "outputs": [],
   "source": [
    "#selection sort"
   ]
  },
  {
   "cell_type": "code",
   "execution_count": 50,
   "id": "d5d31585",
   "metadata": {},
   "outputs": [],
   "source": [
    "def selection_sort(arr):\n",
    "    \n",
    "    for i in range(0,len(arr)-1):\n",
    "        min = i\n",
    "        for j in range (i+1,len(arr)):\n",
    "            if arr[j]<arr[min]:\n",
    "                min = j\n",
    "         \n",
    "        arr[i],arr[min]=arr[min],arr[i]\n",
    "    \n",
    "    print(arr)\n",
    "     "
   ]
  },
  {
   "cell_type": "code",
   "execution_count": 52,
   "id": "28208efd",
   "metadata": {},
   "outputs": [],
   "source": [
    "arr = [300, 2, 4, 12, 21, 55, 200]\n"
   ]
  },
  {
   "cell_type": "code",
   "execution_count": 53,
   "id": "fd030df8",
   "metadata": {},
   "outputs": [
    {
     "name": "stdout",
     "output_type": "stream",
     "text": [
      "[2, 4, 12, 21, 55, 200, 300]\n"
     ]
    }
   ],
   "source": [
    "selection_sort(arr)"
   ]
  },
  {
   "cell_type": "code",
   "execution_count": 54,
   "id": "9aac9d50",
   "metadata": {},
   "outputs": [],
   "source": [
    "#selection sort is not adaptive and cannot be made adaptive\n",
    "#selection sort is not adaptive "
   ]
  },
  {
   "cell_type": "code",
   "execution_count": null,
   "id": "7fed17e6",
   "metadata": {},
   "outputs": [],
   "source": []
  }
 ],
 "metadata": {
  "kernelspec": {
   "display_name": "Python 3 (ipykernel)",
   "language": "python",
   "name": "python3"
  },
  "language_info": {
   "codemirror_mode": {
    "name": "ipython",
    "version": 3
   },
   "file_extension": ".py",
   "mimetype": "text/x-python",
   "name": "python",
   "nbconvert_exporter": "python",
   "pygments_lexer": "ipython3",
   "version": "3.9.16"
  }
 },
 "nbformat": 4,
 "nbformat_minor": 5
}
