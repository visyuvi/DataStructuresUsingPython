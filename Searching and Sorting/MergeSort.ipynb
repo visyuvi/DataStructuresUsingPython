{
 "cells": [
  {
   "cell_type": "code",
   "execution_count": 84,
   "id": "a9f98b15",
   "metadata": {},
   "outputs": [],
   "source": [
    "def merge_sorted(arr1, arr2, arr):\n",
    "    \n",
    "    i = j = k = 0\n",
    "    \n",
    "    \n",
    "    while i < len(arr1) and j < len(arr2):\n",
    "        \n",
    "        if arr1[i] < arr2[j]:\n",
    "            arr[k]=arr1[i]\n",
    "            i+=1\n",
    "            k+=1\n",
    "        else:\n",
    "            arr[k]=arr2[j]\n",
    "            j+=1 \n",
    "            k+=1\n",
    "            \n",
    "    while i<len(arr1):\n",
    "        arr[k]=arr1[i]\n",
    "        i+=1\n",
    "        k+=1\n",
    "    \n",
    "    while j<len(arr2):\n",
    "        merged.append(arr2[j])\n",
    "        \n",
    "        j+=1\n",
    "        k+=1\n",
    "        \n",
    "        \n",
    "        "
   ]
  },
  {
   "cell_type": "code",
   "execution_count": 85,
   "id": "d21de643",
   "metadata": {},
   "outputs": [
    {
     "name": "stdout",
     "output_type": "stream",
     "text": [
      "[1, 2, 4, 11] [3, 5, 7, 8, 9, 10]\n",
      "arri 1\n",
      "arri 2\n",
      "arrj 3\n",
      "arri 3\n",
      "arrj 5\n",
      "arrj 7\n"
     ]
    },
    {
     "ename": "IndexError",
     "evalue": "list assignment index out of range",
     "output_type": "error",
     "traceback": [
      "\u001b[0;31m---------------------------------------------------------------------------\u001b[0m",
      "\u001b[0;31mIndexError\u001b[0m                                Traceback (most recent call last)",
      "\u001b[0;32m/tmp/ipykernel_1546521/2192585025.py\u001b[0m in \u001b[0;36m<module>\u001b[0;34m\u001b[0m\n\u001b[1;32m      2\u001b[0m \u001b[0marr2\u001b[0m \u001b[0;34m=\u001b[0m \u001b[0;34m[\u001b[0m\u001b[0;36m3\u001b[0m\u001b[0;34m,\u001b[0m\u001b[0;36m5\u001b[0m\u001b[0;34m,\u001b[0m\u001b[0;36m7\u001b[0m\u001b[0;34m,\u001b[0m\u001b[0;36m8\u001b[0m\u001b[0;34m,\u001b[0m\u001b[0;36m9\u001b[0m\u001b[0;34m,\u001b[0m\u001b[0;36m10\u001b[0m\u001b[0;34m]\u001b[0m\u001b[0;34m\u001b[0m\u001b[0;34m\u001b[0m\u001b[0m\n\u001b[1;32m      3\u001b[0m \u001b[0;34m\u001b[0m\u001b[0m\n\u001b[0;32m----> 4\u001b[0;31m \u001b[0mprint\u001b[0m\u001b[0;34m(\u001b[0m\u001b[0mmerge_sorted\u001b[0m\u001b[0;34m(\u001b[0m\u001b[0marr1\u001b[0m\u001b[0;34m,\u001b[0m\u001b[0marr2\u001b[0m\u001b[0;34m,\u001b[0m\u001b[0marr\u001b[0m\u001b[0;34m)\u001b[0m\u001b[0;34m)\u001b[0m\u001b[0;34m\u001b[0m\u001b[0;34m\u001b[0m\u001b[0m\n\u001b[0m",
      "\u001b[0;32m/tmp/ipykernel_1546521/1288627941.py\u001b[0m in \u001b[0;36mmerge_sorted\u001b[0;34m(arr1, arr2, arr)\u001b[0m\n\u001b[1;32m     15\u001b[0m         \u001b[0;32melse\u001b[0m\u001b[0;34m:\u001b[0m\u001b[0;34m\u001b[0m\u001b[0;34m\u001b[0m\u001b[0m\n\u001b[1;32m     16\u001b[0m             \u001b[0mprint\u001b[0m\u001b[0;34m(\u001b[0m\u001b[0;34m\"arrj\"\u001b[0m\u001b[0;34m,\u001b[0m\u001b[0marr2\u001b[0m\u001b[0;34m[\u001b[0m\u001b[0mj\u001b[0m\u001b[0;34m]\u001b[0m\u001b[0;34m)\u001b[0m\u001b[0;34m\u001b[0m\u001b[0;34m\u001b[0m\u001b[0m\n\u001b[0;32m---> 17\u001b[0;31m             \u001b[0marr\u001b[0m\u001b[0;34m[\u001b[0m\u001b[0mk\u001b[0m\u001b[0;34m]\u001b[0m\u001b[0;34m=\u001b[0m\u001b[0marr2\u001b[0m\u001b[0;34m[\u001b[0m\u001b[0mj\u001b[0m\u001b[0;34m]\u001b[0m\u001b[0;34m\u001b[0m\u001b[0;34m\u001b[0m\u001b[0m\n\u001b[0m\u001b[1;32m     18\u001b[0m             \u001b[0mj\u001b[0m\u001b[0;34m+=\u001b[0m\u001b[0;36m1\u001b[0m\u001b[0;34m\u001b[0m\u001b[0;34m\u001b[0m\u001b[0m\n\u001b[1;32m     19\u001b[0m             \u001b[0mk\u001b[0m\u001b[0;34m+=\u001b[0m\u001b[0;36m1\u001b[0m\u001b[0;34m\u001b[0m\u001b[0;34m\u001b[0m\u001b[0m\n",
      "\u001b[0;31mIndexError\u001b[0m: list assignment index out of range"
     ]
    }
   ],
   "source": [
    "arr1 = [1,2,4,11]\n",
    "arr2 = [3,5,7,8,9,10]\n",
    "\n",
    "print(merge_sorted(arr1,arr2,arr))"
   ]
  },
  {
   "cell_type": "code",
   "execution_count": 86,
   "id": "bbfa144e",
   "metadata": {},
   "outputs": [],
   "source": [
    "def merge_sort(arr):\n",
    "    \n",
    "    if len(arr)==1:\n",
    "        return arr\n",
    "    \n",
    "    mid = len(arr)//2\n",
    "    \n",
    "    left = arr[:mid]\n",
    "    right = arr[mid:]\n",
    "    \n",
    "    merge_sort(left)\n",
    "    merge_sort(right)\n",
    "    \n",
    "    merge_sorted(left,right,arr)\n",
    "    "
   ]
  },
  {
   "cell_type": "code",
   "execution_count": 87,
   "id": "8e038382",
   "metadata": {},
   "outputs": [],
   "source": [
    "arr = [1,2,2,5,34]"
   ]
  },
  {
   "cell_type": "code",
   "execution_count": 88,
   "id": "4ff95b21",
   "metadata": {},
   "outputs": [
    {
     "name": "stdout",
     "output_type": "stream",
     "text": [
      "[1] [2]\n",
      "arri 1\n",
      "**********\n",
      "[5] [34]\n",
      "arri 5\n",
      "**********\n",
      "[2] [5, 34]\n",
      "arri 2\n",
      "**********\n",
      "[1, 2] [2, 5, 34]\n",
      "arri 1\n",
      "arrj 2\n",
      "arri 2\n",
      "**********\n"
     ]
    }
   ],
   "source": [
    "merge_sort(arr)"
   ]
  },
  {
   "cell_type": "code",
   "execution_count": 83,
   "id": "35ec5e89",
   "metadata": {},
   "outputs": [
    {
     "data": {
      "text/plain": [
       "[1, 2, 2, 5, 34]"
      ]
     },
     "execution_count": 83,
     "metadata": {},
     "output_type": "execute_result"
    }
   ],
   "source": [
    "arr"
   ]
  },
  {
   "cell_type": "code",
   "execution_count": null,
   "id": "98584614",
   "metadata": {},
   "outputs": [],
   "source": [
    "#the time complexity of the above optimized merge sort would be O(nlogn).\n",
    "#Space complexity would be O(n) --> this is due to recursion only and not the extra space that was there in unoptimized code. "
   ]
  }
 ],
 "metadata": {
  "kernelspec": {
   "display_name": "Python 3 (ipykernel)",
   "language": "python",
   "name": "python3"
  },
  "language_info": {
   "codemirror_mode": {
    "name": "ipython",
    "version": 3
   },
   "file_extension": ".py",
   "mimetype": "text/x-python",
   "name": "python",
   "nbconvert_exporter": "python",
   "pygments_lexer": "ipython3",
   "version": "3.9.16"
  }
 },
 "nbformat": 4,
 "nbformat_minor": 5
}
