{
 "cells": [
  {
   "cell_type": "code",
   "execution_count": 14,
   "id": "08ad1e00",
   "metadata": {},
   "outputs": [],
   "source": [
    "def merge_sorted(arr1, arr2):\n",
    "    i=j=0\n",
    "    \n",
    "    merged = []\n",
    "    \n",
    "    while i<len(arr1) and j<len(arr2):\n",
    "        \n",
    "        if arr1[i] < arr2[j]:\n",
    "            merged.append(arr1[i])\n",
    "            i+=1\n",
    "        else:\n",
    "            merged.append(arr2[j])\n",
    "            j+=1 \n",
    "            \n",
    "    while i<len(arr1):\n",
    "        merged.append(arr1[i])\n",
    "        i+=1\n",
    "    \n",
    "    while j<len(arr2):\n",
    "        merged.append(arr2[j])\n",
    "        j+=1\n",
    "        \n",
    "    return merged\n",
    "            \n",
    "        \n",
    "        "
   ]
  },
  {
   "cell_type": "code",
   "execution_count": 15,
   "id": "a12440af",
   "metadata": {},
   "outputs": [
    {
     "name": "stdout",
     "output_type": "stream",
     "text": [
      "[1, 2, 3, 4, 5, 7, 8, 9, 10, 11]\n"
     ]
    }
   ],
   "source": [
    "arr1 = [1,2,4,11]\n",
    "arr2 = [3,5,7,8,9,10]\n",
    "\n",
    "print(merge_sorted(arr1,arr2))"
   ]
  },
  {
   "cell_type": "code",
   "execution_count": 35,
   "id": "5583441d",
   "metadata": {},
   "outputs": [],
   "source": [
    "def merge_sort(arr):\n",
    "    \n",
    "    if len(arr)==1:\n",
    "        return arr\n",
    "    \n",
    "    mid = len(arr)//2\n",
    "    \n",
    "    left = arr[:mid]\n",
    "    right = arr[mid:]\n",
    "    \n",
    "    left = merge_sort(left)\n",
    "    right = merge_sort(right)\n",
    "    \n",
    "    return merge_sorted(left,right)\n",
    "    "
   ]
  },
  {
   "cell_type": "code",
   "execution_count": 39,
   "id": "0510085c",
   "metadata": {},
   "outputs": [],
   "source": [
    "arr = [2,1,5,8,9,5,6,7,4,0]"
   ]
  },
  {
   "cell_type": "code",
   "execution_count": 40,
   "id": "8cdda91e",
   "metadata": {},
   "outputs": [
    {
     "data": {
      "text/plain": [
       "[0, 1, 2, 4, 5, 5, 6, 7, 8, 9]"
      ]
     },
     "execution_count": 40,
     "metadata": {},
     "output_type": "execute_result"
    }
   ],
   "source": [
    "merge_sort(arr)"
   ]
  },
  {
   "cell_type": "code",
   "execution_count": null,
   "id": "814fa464",
   "metadata": {},
   "outputs": [],
   "source": []
  }
 ],
 "metadata": {
  "kernelspec": {
   "display_name": "Python 3 (ipykernel)",
   "language": "python",
   "name": "python3"
  },
  "language_info": {
   "codemirror_mode": {
    "name": "ipython",
    "version": 3
   },
   "file_extension": ".py",
   "mimetype": "text/x-python",
   "name": "python",
   "nbconvert_exporter": "python",
   "pygments_lexer": "ipython3",
   "version": "3.9.16"
  }
 },
 "nbformat": 4,
 "nbformat_minor": 5
}
