{
 "cells": [
  {
   "cell_type": "code",
   "execution_count": 140,
   "id": "6a917b04",
   "metadata": {},
   "outputs": [],
   "source": [
    "def merge_sorted(arr1, arr2, arr):\n",
    "    \n",
    "    i = j = k = 0\n",
    "    \n",
    "    \n",
    "    while i < len(arr1) and j<len(arr2):\n",
    "        \n",
    "        if arr1[i] <= arr2[j]:\n",
    "            arr[k]= arr1[i]\n",
    "            i+=1\n",
    "            k+=1\n",
    "        else:\n",
    "            arr[k]= arr2[j]          \n",
    "            j+=1\n",
    "            k+=1\n",
    "            \n",
    "    while i<len(arr1):\n",
    "        arr[k]= arr1[i]\n",
    "        i+=1\n",
    "        k+=1\n",
    "    \n",
    "    while j<len(arr2):\n",
    "        arr[k]= arr2[j]          \n",
    "        j+=1\n",
    "        k+=1\n",
    "            \n",
    "        \n",
    "        "
   ]
  },
  {
   "cell_type": "code",
   "execution_count": null,
   "id": "b8c83de8",
   "metadata": {},
   "outputs": [],
   "source": []
  },
  {
   "cell_type": "code",
   "execution_count": 141,
   "id": "4cff1889",
   "metadata": {},
   "outputs": [],
   "source": [
    "def merge_sort(arr):\n",
    "    \n",
    "    if len(arr)==1:\n",
    "        return arr\n",
    "    \n",
    "    mid = len(arr)//2\n",
    "    \n",
    "    left = arr[:mid]\n",
    "    right = arr[mid:]\n",
    "    \n",
    "    merge_sort(left)\n",
    "    merge_sort(right)\n",
    "    \n",
    "    merge_sorted(left,right,arr)\n",
    "    "
   ]
  },
  {
   "cell_type": "code",
   "execution_count": 142,
   "id": "f97bbaba",
   "metadata": {},
   "outputs": [],
   "source": [
    "arr = [12,1,2,5,34]"
   ]
  },
  {
   "cell_type": "code",
   "execution_count": 143,
   "id": "2a214c9a",
   "metadata": {},
   "outputs": [],
   "source": [
    "merge_sort(arr)"
   ]
  },
  {
   "cell_type": "code",
   "execution_count": 144,
   "id": "25251f6f",
   "metadata": {},
   "outputs": [
    {
     "data": {
      "text/plain": [
       "[1, 2, 5, 12, 34]"
      ]
     },
     "execution_count": 144,
     "metadata": {},
     "output_type": "execute_result"
    }
   ],
   "source": [
    "arr"
   ]
  },
  {
   "cell_type": "code",
   "execution_count": 145,
   "id": "d22b418b",
   "metadata": {},
   "outputs": [],
   "source": [
    "#the time complexity of the above optimized merge sort would be O(nlogn).\n",
    "#Space complexity would be O(n) --> this is due to recursion only and not the extra space that was there in unoptimized code. "
   ]
  },
  {
   "cell_type": "code",
   "execution_count": null,
   "id": "2a5ee147",
   "metadata": {},
   "outputs": [],
   "source": []
  }
 ],
 "metadata": {
  "kernelspec": {
   "display_name": "Python 3 (ipykernel)",
   "language": "python",
   "name": "python3"
  },
  "language_info": {
   "codemirror_mode": {
    "name": "ipython",
    "version": 3
   },
   "file_extension": ".py",
   "mimetype": "text/x-python",
   "name": "python",
   "nbconvert_exporter": "python",
   "pygments_lexer": "ipython3",
   "version": "3.9.16"
  }
 },
 "nbformat": 4,
 "nbformat_minor": 5
}
