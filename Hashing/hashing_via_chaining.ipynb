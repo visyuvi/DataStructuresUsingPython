{
 "cells": [
  {
   "cell_type": "code",
   "execution_count": 68,
   "id": "ae0dbd5c",
   "metadata": {},
   "outputs": [],
   "source": [
    "class Node:\n",
    "    \n",
    "    def __init__(self,key,value):\n",
    "        self.key = key\n",
    "        self.value = value\n",
    "        self.next =  None"
   ]
  },
  {
   "cell_type": "code",
   "execution_count": 69,
   "id": "21a3bf75",
   "metadata": {},
   "outputs": [],
   "source": [
    "class LL:\n",
    "    \n",
    "    def __init__(self):\n",
    "        #Empty Linked list\n",
    "        self.head = None\n",
    "        self.n = 0\n",
    "        \n",
    "    def __len__(self):\n",
    "        return self.n\n",
    "    \n",
    "     \n",
    "        \n",
    "    def add(self,key,value):\n",
    "              \n",
    "        new_node = Node(key,value)\n",
    "        \n",
    "        if self.head == None:\n",
    "            #empty\n",
    "            self.head = new_node\n",
    "            self.n = self.n + 1\n",
    "            return\n",
    "                     \n",
    "        curr = self.head\n",
    "        \n",
    "        while curr.next!= None:\n",
    "            curr = curr.next\n",
    "        \n",
    "        curr.next = new_node\n",
    "        self.n = self.n + 1\n",
    "        \n",
    "        \n",
    "    def clear(self):\n",
    "        self.head = None\n",
    "        self.n = 0\n",
    "        \n",
    "         \n",
    "    def remove(self, key):\n",
    "        \n",
    "        if self.head == None:\n",
    "            return 'LL empty'\n",
    "        \n",
    "        if self.head.key == value:\n",
    "            return self.delete_head()\n",
    "        \n",
    "        curr = self.head\n",
    "        \n",
    "        while curr.next != None:\n",
    "            if curr.next.key == key:\n",
    "                break\n",
    "            curr = curr.next\n",
    "            \n",
    "        #2 cases \n",
    "        if curr.next == None:\n",
    "            return \"Not found\"\n",
    "        else:\n",
    "            curr.next =  curr.next.next\n",
    "            self.n = self.n - 1 \n",
    "            \n",
    "        \n",
    "    def get_node_at_index(self,index):\n",
    "        \n",
    "        temp = self.head\n",
    "        \n",
    "        counter = 0\n",
    "        \n",
    "        while(temp is not None):\n",
    "            \n",
    "            if counter == index:\n",
    "                return temp\n",
    "            \n",
    "            temp = temp.next\n",
    "            counter+=1\n",
    "        \n",
    "        \n",
    "        \n",
    "               \n",
    "    \n",
    "    def traverse(self):\n",
    "        \n",
    "        curr = self.head\n",
    "        \n",
    "        result = ''\n",
    "        \n",
    "        while curr!= None:\n",
    "            \n",
    "            print(curr.key,\"-->\", curr.value,\" \", end=\" \")\n",
    "                        \n",
    "            curr = curr.next\n",
    "        \n",
    "    \n",
    "    \n",
    "    def search(self,key):\n",
    "        \n",
    "        curr = self.head\n",
    "        pos = 0\n",
    "        \n",
    "        while curr != None:\n",
    "            if curr.key == key:\n",
    "                return pos\n",
    "            pos = pos + 1\n",
    "            curr = curr.next\n",
    "        \n",
    "        return -1     \n",
    "        \n",
    "        \n",
    "        \n",
    "\n"
   ]
  },
  {
   "cell_type": "code",
   "execution_count": 103,
   "id": "b3a35862",
   "metadata": {},
   "outputs": [],
   "source": [
    "class Dictionary:\n",
    "    \n",
    "    \n",
    "    def __init__(self,capacity):\n",
    "        self.capacity = capacity\n",
    "        self.size = 0\n",
    "        #create array of LL\n",
    "        self.buckets = self.make_array(self.capacity)\n",
    "    \n",
    "               \n",
    "        \n",
    "    def hash_function(self,key):\n",
    "        return abs(hash(key)) % self.capacity\n",
    "        \n",
    "        \n",
    "        \n",
    "    def make_array(self,capacity):\n",
    "            \n",
    "            L = []\n",
    "            \n",
    "            for i in range(capacity):\n",
    "                L.append(LL())\n",
    "        \n",
    "            return L\n",
    "                 \n",
    "        \n",
    "    def put(self,key,value):\n",
    "            \n",
    "        bucket_index = self.hash_function(key)\n",
    "            \n",
    "        node_index = self.get_node_index(bucket_index,key)\n",
    "            \n",
    "        if ( node_index == -1):\n",
    "            #insert\n",
    "            self.buckets[bucket_index].add(key,value)\n",
    "            self.size += 1 \n",
    "               \n",
    "        else:\n",
    "            #update\n",
    "            node = self.buckets[bucket_index].get_node_at_index(node_index)\n",
    "            node.value = value\n",
    "                \n",
    "            \n",
    "                \n",
    "            \n",
    "    def get_node_index(self,bucket_index,key):\n",
    "            \n",
    "        node_index = self.buckets[bucket_index].search(key)\n",
    "            \n",
    "        return node_index\n",
    " \n",
    "    "
   ]
  },
  {
   "cell_type": "code",
   "execution_count": 104,
   "id": "d35469ff",
   "metadata": {},
   "outputs": [],
   "source": [
    "L = LL()"
   ]
  },
  {
   "cell_type": "code",
   "execution_count": 105,
   "id": "e9426894",
   "metadata": {},
   "outputs": [],
   "source": [
    "L.add(2,3)\n",
    "L.add(4,5)\n",
    "L.add(6,7)"
   ]
  },
  {
   "cell_type": "code",
   "execution_count": 106,
   "id": "bca7bdc1",
   "metadata": {},
   "outputs": [
    {
     "name": "stdout",
     "output_type": "stream",
     "text": [
      "2 --> 3   4 --> 5   6 --> 7   "
     ]
    }
   ],
   "source": [
    "L.traverse()"
   ]
  },
  {
   "cell_type": "code",
   "execution_count": 107,
   "id": "74d70194",
   "metadata": {},
   "outputs": [],
   "source": [
    "ans = L.get_node_at_index(2).key"
   ]
  },
  {
   "cell_type": "code",
   "execution_count": 108,
   "id": "ff50c62c",
   "metadata": {},
   "outputs": [
    {
     "name": "stdout",
     "output_type": "stream",
     "text": [
      "6\n"
     ]
    }
   ],
   "source": [
    "print(ans)"
   ]
  },
  {
   "cell_type": "code",
   "execution_count": null,
   "id": "e708515a",
   "metadata": {},
   "outputs": [],
   "source": []
  },
  {
   "cell_type": "code",
   "execution_count": 111,
   "id": "96617603",
   "metadata": {},
   "outputs": [],
   "source": [
    "D1 = Dictionary(4)"
   ]
  },
  {
   "cell_type": "code",
   "execution_count": 129,
   "id": "e405b2c2",
   "metadata": {},
   "outputs": [],
   "source": [
    "D1.put(\"Python\",100)"
   ]
  },
  {
   "cell_type": "code",
   "execution_count": 139,
   "id": "9de1b24d",
   "metadata": {},
   "outputs": [],
   "source": [
    "D1.put(\"Java\",4)"
   ]
  },
  {
   "cell_type": "code",
   "execution_count": 146,
   "id": "882b6d90",
   "metadata": {},
   "outputs": [],
   "source": [
    "D1.put(\"Php\",10000)"
   ]
  },
  {
   "cell_type": "code",
   "execution_count": 147,
   "id": "2bcde46d",
   "metadata": {},
   "outputs": [],
   "source": [
    "D1.put(\"Ruby\",100)"
   ]
  },
  {
   "cell_type": "code",
   "execution_count": 152,
   "id": "16952ae8",
   "metadata": {},
   "outputs": [
    {
     "name": "stdout",
     "output_type": "stream",
     "text": [
      "Php --> 10000   "
     ]
    }
   ],
   "source": [
    "D1.buckets[3].traverse()"
   ]
  },
  {
   "cell_type": "code",
   "execution_count": null,
   "id": "02b9eb02",
   "metadata": {},
   "outputs": [],
   "source": []
  }
 ],
 "metadata": {
  "kernelspec": {
   "display_name": "Python 3 (ipykernel)",
   "language": "python",
   "name": "python3"
  },
  "language_info": {
   "codemirror_mode": {
    "name": "ipython",
    "version": 3
   },
   "file_extension": ".py",
   "mimetype": "text/x-python",
   "name": "python",
   "nbconvert_exporter": "python",
   "pygments_lexer": "ipython3",
   "version": "3.9.16"
  }
 },
 "nbformat": 4,
 "nbformat_minor": 5
}
