{
 "cells": [
  {
   "cell_type": "code",
   "execution_count": 68,
   "id": "dc6c847f",
   "metadata": {},
   "outputs": [],
   "source": [
    "class Node:\n",
    "    \n",
    "    def __init__(self,key,value):\n",
    "        self.key = key\n",
    "        self.value = value\n",
    "        self.next =  None"
   ]
  },
  {
   "cell_type": "code",
   "execution_count": 157,
   "id": "6e9a310d",
   "metadata": {},
   "outputs": [],
   "source": [
    "class LL:\n",
    "    \n",
    "    def __init__(self):\n",
    "        #Empty Linked list\n",
    "        self.head = None\n",
    "        self.n = 0\n",
    "        \n",
    "    def __len__(self):\n",
    "        return self.n\n",
    "    \n",
    "     \n",
    "        \n",
    "    def add(self,key,value):\n",
    "              \n",
    "        new_node = Node(key,value)\n",
    "        \n",
    "        if self.head == None:\n",
    "            #empty\n",
    "            self.head = new_node\n",
    "            self.n = self.n + 1\n",
    "            return\n",
    "                     \n",
    "        curr = self.head\n",
    "        \n",
    "        while curr.next!= None:\n",
    "            curr = curr.next\n",
    "        \n",
    "        curr.next = new_node\n",
    "        self.n = self.n + 1\n",
    "        \n",
    "        \n",
    "    def clear(self):\n",
    "        self.head = None\n",
    "        self.n = 0\n",
    "        \n",
    "         \n",
    "    def remove(self, key):\n",
    "        \n",
    "        if self.head == None:\n",
    "            return 'LL empty'\n",
    "        \n",
    "        if self.head.key == value:\n",
    "            return self.delete_head()\n",
    "        \n",
    "        curr = self.head\n",
    "        \n",
    "        while curr.next != None:\n",
    "            if curr.next.key == key:\n",
    "                break\n",
    "            curr = curr.next\n",
    "            \n",
    "        #2 cases \n",
    "        if curr.next == None:\n",
    "            return \"Not found\"\n",
    "        else:\n",
    "            curr.next =  curr.next.next\n",
    "            self.n = self.n - 1 \n",
    "            \n",
    "        \n",
    "    def get_node_at_index(self,index):\n",
    "        \n",
    "        temp = self.head\n",
    "        \n",
    "        counter = 0\n",
    "        \n",
    "        while(temp is not None):\n",
    "            \n",
    "            if counter == index:\n",
    "                return temp\n",
    "            \n",
    "            temp = temp.next\n",
    "            counter+=1\n",
    "        \n",
    "        \n",
    "        \n",
    "               \n",
    "    \n",
    "    def traverse(self):\n",
    "        \n",
    "        curr = self.head\n",
    "        \n",
    "        result = ''\n",
    "        \n",
    "        while curr!= None:\n",
    "            \n",
    "            print(curr.key,\"-->\", curr.value,\" \", end=\" \")\n",
    "                        \n",
    "            curr = curr.next\n",
    "        \n",
    "    \n",
    "    \n",
    "    def search(self,key):\n",
    "        \n",
    "        curr = self.head\n",
    "        pos = 0\n",
    "        \n",
    "        while curr != None:\n",
    "            if curr.key == key:\n",
    "                return pos\n",
    "            pos = pos + 1\n",
    "            curr = curr.next\n",
    "        \n",
    "        return -1     \n",
    "        \n",
    "        \n",
    "        \n",
    "\n"
   ]
  },
  {
   "cell_type": "code",
   "execution_count": 290,
   "id": "2ec925fc",
   "metadata": {},
   "outputs": [],
   "source": [
    "class Dictionary:\n",
    "    \n",
    "    \n",
    "    def __init__(self,capacity):\n",
    "        self.capacity = capacity\n",
    "        self.size = 0\n",
    "        #create array of LL\n",
    "        self.buckets = self.make_array(self.capacity)\n",
    "    \n",
    "               \n",
    "        \n",
    "    def hash_function(self,key):\n",
    "        return abs(hash(key)) % self.capacity\n",
    "        \n",
    "        \n",
    "        \n",
    "    def make_array(self,capacity):\n",
    "            \n",
    "            L = []\n",
    "            \n",
    "            for i in range(capacity):\n",
    "                L.append(LL())\n",
    "        \n",
    "            return L\n",
    "                 \n",
    "        \n",
    "    def put(self,key,value):\n",
    "            \n",
    "        bucket_index = self.hash_function(key)\n",
    "            \n",
    "        node_index = self.get_node_index(bucket_index,key)\n",
    "            \n",
    "        if ( node_index == -1):\n",
    "            #insert\n",
    "            self.buckets[bucket_index].add(key,value)\n",
    "            self.size += 1 \n",
    "            \n",
    "            load_factor = self.size/self.capacity\n",
    "            print(load_factor)\n",
    "            \n",
    "            if (load_factor >= 2):\n",
    "                self.rehash()\n",
    "                \n",
    "        else:\n",
    "            #update\n",
    "            node = self.buckets[bucket_index].get_node_at_index(node_index)\n",
    "            node.value = value\n",
    "                \n",
    "    def rehash(self):\n",
    "        self.capacity = self.capacity * 2\n",
    "        old_buckets = self.buckets\n",
    "        self.size = 0\n",
    "        self.buckets = self.make_array(self.capacity)\n",
    "        \n",
    "        for i in old_buckets:\n",
    "            for j in range(len(i)):\n",
    "                node = i.get_node_at_index(j)\n",
    "                key_item  = node.key\n",
    "                value_item = node.value\n",
    "                self.put(key_item,value_item)\n",
    "             \n",
    "                \n",
    "            \n",
    "    def get_node_index(self,bucket_index,key):\n",
    "            \n",
    "        node_index = self.buckets[bucket_index].search(key)\n",
    "            \n",
    "        return node_index\n",
    " \n",
    "    "
   ]
  },
  {
   "cell_type": "code",
   "execution_count": 291,
   "id": "dfc6a31a",
   "metadata": {},
   "outputs": [],
   "source": [
    "L = LL()"
   ]
  },
  {
   "cell_type": "code",
   "execution_count": 292,
   "id": "42cee4cf",
   "metadata": {},
   "outputs": [],
   "source": [
    "L.add(2,3)\n",
    "L.add(4,5)\n",
    "L.add(6,7)"
   ]
  },
  {
   "cell_type": "code",
   "execution_count": 293,
   "id": "caf83bb1",
   "metadata": {},
   "outputs": [
    {
     "name": "stdout",
     "output_type": "stream",
     "text": [
      "2 --> 3   4 --> 5   6 --> 7   "
     ]
    }
   ],
   "source": [
    "L.traverse()"
   ]
  },
  {
   "cell_type": "code",
   "execution_count": 294,
   "id": "f92fef41",
   "metadata": {},
   "outputs": [],
   "source": [
    "ans = L.get_node_at_index(2).key"
   ]
  },
  {
   "cell_type": "code",
   "execution_count": 295,
   "id": "32bb8f3b",
   "metadata": {},
   "outputs": [
    {
     "name": "stdout",
     "output_type": "stream",
     "text": [
      "6\n"
     ]
    }
   ],
   "source": [
    "print(ans)"
   ]
  },
  {
   "cell_type": "code",
   "execution_count": null,
   "id": "88dee335",
   "metadata": {},
   "outputs": [],
   "source": []
  },
  {
   "cell_type": "code",
   "execution_count": 296,
   "id": "dc13ccc0",
   "metadata": {},
   "outputs": [],
   "source": [
    "D1 = Dictionary(4)"
   ]
  },
  {
   "cell_type": "code",
   "execution_count": 311,
   "id": "ed0b478c",
   "metadata": {},
   "outputs": [
    {
     "name": "stdout",
     "output_type": "stream",
     "text": [
      "1.75\n"
     ]
    }
   ],
   "source": [
    "D1.put(\"Python12212\",100)"
   ]
  },
  {
   "cell_type": "code",
   "execution_count": 312,
   "id": "e2e675f8",
   "metadata": {},
   "outputs": [
    {
     "name": "stdout",
     "output_type": "stream",
     "text": [
      "1.875\n",
      "2.0\n",
      "0.0625\n",
      "0.125\n",
      "0.1875\n",
      "0.25\n",
      "0.3125\n",
      "0.375\n",
      "0.4375\n",
      "0.5\n",
      "0.5625\n",
      "0.625\n",
      "0.6875\n",
      "0.75\n",
      "0.8125\n",
      "0.875\n",
      "0.9375\n",
      "1.0\n"
     ]
    }
   ],
   "source": [
    "D1.put(\"Java12\",4)\n",
    "D1.put(\"Java223\",42)"
   ]
  },
  {
   "cell_type": "code",
   "execution_count": 306,
   "id": "9f32c45d",
   "metadata": {},
   "outputs": [],
   "source": [
    "D1.put(\"Php1\",1000)\n",
    "D1.put(\"Php2\",1200)\n"
   ]
  },
  {
   "cell_type": "code",
   "execution_count": 303,
   "id": "81f74e38",
   "metadata": {},
   "outputs": [],
   "source": [
    "D1.put(\"Ruby\",100)\n",
    "D1.put(\"Ruby1\",100)\n",
    "D1.put(\"Ruby2\",100)"
   ]
  },
  {
   "cell_type": "code",
   "execution_count": 301,
   "id": "f3cbd69f",
   "metadata": {},
   "outputs": [
    {
     "name": "stdout",
     "output_type": "stream",
     "text": [
      "Php1 --> 12000   "
     ]
    }
   ],
   "source": [
    "D1.buckets[3].traverse()"
   ]
  },
  {
   "cell_type": "code",
   "execution_count": 315,
   "id": "573690bd",
   "metadata": {},
   "outputs": [
    {
     "name": "stdout",
     "output_type": "stream",
     "text": [
      "Java22 --> 42   --NEXT--\n",
      "Python12212 --> 100   --NEXT--\n",
      "Java --> 4   Java2 --> 42   Ruby2 --> 100   --NEXT--\n",
      "Php1 --> 1000   Python1221 --> 100   --NEXT--\n",
      "--NEXT--\n",
      "--NEXT--\n",
      "--NEXT--\n",
      "--NEXT--\n",
      "--NEXT--\n",
      "Ruby --> 100   Java1 --> 4   --NEXT--\n",
      "Ruby1 --> 100   --NEXT--\n",
      "Java223 --> 42   --NEXT--\n",
      "Python --> 100   Python122 --> 100   --NEXT--\n",
      "--NEXT--\n",
      "Php2 --> 1200   Java12 --> 4   --NEXT--\n",
      "Python12 --> 100   --NEXT--\n"
     ]
    }
   ],
   "source": [
    "for i in range(D1.capacity):\n",
    "    D1.buckets[i].traverse()\n",
    "    print(\"--NEXT--\")"
   ]
  },
  {
   "cell_type": "code",
   "execution_count": null,
   "id": "a7dd1667",
   "metadata": {},
   "outputs": [],
   "source": []
  }
 ],
 "metadata": {
  "kernelspec": {
   "display_name": "Python 3 (ipykernel)",
   "language": "python",
   "name": "python3"
  },
  "language_info": {
   "codemirror_mode": {
    "name": "ipython",
    "version": 3
   },
   "file_extension": ".py",
   "mimetype": "text/x-python",
   "name": "python",
   "nbconvert_exporter": "python",
   "pygments_lexer": "ipython3",
   "version": "3.9.16"
  }
 },
 "nbformat": 4,
 "nbformat_minor": 5
}
