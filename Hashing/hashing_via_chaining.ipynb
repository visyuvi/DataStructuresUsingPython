{
 "cells": [
  {
   "cell_type": "code",
   "execution_count": 68,
   "id": "9a73ec20",
   "metadata": {},
   "outputs": [],
   "source": [
    "class Node:\n",
    "    \n",
    "    def __init__(self,key,value):\n",
    "        self.key = key\n",
    "        self.value = value\n",
    "        self.next =  None"
   ]
  },
  {
   "cell_type": "code",
   "execution_count": 439,
   "id": "f24058a5",
   "metadata": {},
   "outputs": [],
   "source": [
    "class LL:\n",
    "    \n",
    "    def __init__(self):\n",
    "        #Empty Linked list\n",
    "        self.head = None\n",
    "        self.n = 0\n",
    "        \n",
    "    def __len__(self):\n",
    "        return self.n\n",
    "    \n",
    "     \n",
    "        \n",
    "    def add(self,key,value):\n",
    "              \n",
    "        new_node = Node(key,value)\n",
    "        \n",
    "        if self.head == None:\n",
    "            #empty\n",
    "            self.head = new_node\n",
    "            self.n = self.n + 1\n",
    "            return\n",
    "                     \n",
    "        curr = self.head\n",
    "        \n",
    "        while curr.next!= None:\n",
    "            curr = curr.next\n",
    "        \n",
    "        curr.next = new_node\n",
    "        self.n = self.n + 1\n",
    "        \n",
    "        \n",
    "    def clear(self):\n",
    "        self.head = None\n",
    "        self.n = 0\n",
    "        \n",
    "         \n",
    "    def remove(self, key):\n",
    "        \n",
    "        if self.head == None:\n",
    "            return 'LL empty'\n",
    "        \n",
    "        if self.head.key == key:\n",
    "            return self.delete_head()\n",
    "        \n",
    "        curr = self.head\n",
    "        \n",
    "        while curr.next != None:\n",
    "            if curr.next.key == key:\n",
    "                break\n",
    "            curr = curr.next\n",
    "            \n",
    "        #2 cases \n",
    "        if curr.next == None:\n",
    "            return \"Not found\"\n",
    "        else:\n",
    "            curr.next =  curr.next.next\n",
    "            self.n = self.n - 1 \n",
    "            \n",
    "        \n",
    "    def get_node_at_index(self,index):\n",
    "        \n",
    "        temp = self.head\n",
    "        \n",
    "        counter = 0\n",
    "        \n",
    "        while(temp is not None):\n",
    "            \n",
    "            if counter == index:\n",
    "                return temp\n",
    "            \n",
    "            temp = temp.next\n",
    "            counter+=1\n",
    "        \n",
    "        \n",
    "        \n",
    "               \n",
    "    \n",
    "    def traverse(self):\n",
    "        \n",
    "        curr = self.head\n",
    "        \n",
    "        result = ''\n",
    "        \n",
    "        while curr!= None:\n",
    "            \n",
    "            print(curr.key,\"-->\", curr.value,\" \", end=\" \")\n",
    "                        \n",
    "            curr = curr.next\n",
    "        \n",
    "    \n",
    "    \n",
    "    def search(self,key):\n",
    "        \n",
    "        curr = self.head\n",
    "        pos = 0\n",
    "        \n",
    "        while curr != None:\n",
    "            if curr.key == key:\n",
    "                return pos\n",
    "            pos = pos + 1\n",
    "            curr = curr.next\n",
    "        \n",
    "        return -1     \n",
    "    \n",
    "    def delete_head(self):\n",
    "        \n",
    "        if(self.head == None):\n",
    "            return \"List is empty\"\n",
    "        \n",
    "        self.head = self.head.next\n",
    "        self.n = self.n - 1\n",
    "        \n",
    "        \n",
    "        \n",
    "\n"
   ]
  },
  {
   "cell_type": "code",
   "execution_count": 497,
   "id": "ff1310a5",
   "metadata": {},
   "outputs": [],
   "source": [
    "class Dictionary:\n",
    "    \n",
    "    \n",
    "    def __init__(self,capacity):\n",
    "        self.capacity = capacity\n",
    "        self.size = 0\n",
    "        #create array of LL\n",
    "        self.buckets = self.make_array(self.capacity)\n",
    "        \n",
    "    def __len__(self):\n",
    "        return self.size\n",
    "    \n",
    "               \n",
    "        \n",
    "    def hash_function(self,key):\n",
    "        return abs(hash(key)) % self.capacity\n",
    "        \n",
    "        \n",
    "        \n",
    "    def make_array(self,capacity):\n",
    "            \n",
    "            L = []\n",
    "            \n",
    "            for i in range(capacity):\n",
    "                L.append(LL())\n",
    "        \n",
    "            return L\n",
    "        \n",
    "    def __setitem__(self,key,value):\n",
    "        self.put(key,value)\n",
    "        \n",
    "    def __getitem__(self,key):\n",
    "        return self.get(key)\n",
    "    \n",
    "    def __delitem__(self,key):\n",
    "        bucket_index = self.hash_function(key)\n",
    "        self.buckets[bucket_index].remove(key)\n",
    "        self.size = self.size - 1\n",
    "        \n",
    "        \n",
    "        \n",
    "    def get(self,key):\n",
    "        bucket_index = self.hash_function(key)\n",
    "        \n",
    "        res = self.buckets[bucket_index].search(key)\n",
    "        \n",
    "        if res == -1:\n",
    "            return \"Not present\"\n",
    "        else:\n",
    "            return self.buckets[bucket_index].get_node_at_index(res).value\n",
    "        \n",
    "                 \n",
    "        \n",
    "    def put(self,key,value):\n",
    "            \n",
    "        bucket_index = self.hash_function(key)\n",
    "            \n",
    "        node_index = self.get_node_index(bucket_index,key)\n",
    "            \n",
    "        if ( node_index == -1):\n",
    "            #insert\n",
    "            self.buckets[bucket_index].add(key,value)\n",
    "            self.size += 1 \n",
    "            \n",
    "            load_factor = self.size/self.capacity\n",
    "            print(load_factor)\n",
    "            \n",
    "            if (load_factor >= 2):\n",
    "                self.rehash()\n",
    "                \n",
    "        else:\n",
    "            #update\n",
    "            node = self.buckets[bucket_index].get_node_at_index(node_index)\n",
    "            node.value = value\n",
    "                \n",
    "    def rehash(self):\n",
    "        self.capacity = self.capacity * 2\n",
    "        old_buckets = self.buckets\n",
    "        self.size = 0\n",
    "        self.buckets = self.make_array(self.capacity)\n",
    "        \n",
    "        for i in old_buckets:\n",
    "            for j in range(len(i)):\n",
    "                node = i.get_node_at_index(j)\n",
    "                key_item  = node.key\n",
    "                value_item = node.value\n",
    "                self.put(key_item,value_item)\n",
    "             \n",
    "                \n",
    "            \n",
    "    def get_node_index(self,bucket_index,key):\n",
    "            \n",
    "        node_index = self.buckets[bucket_index].search(key)\n",
    "            \n",
    "        return node_index\n",
    "    \n",
    "    def __str__(self):\n",
    "        for i in self.buckets:\n",
    "            i.traverse()\n",
    "            print(\"--NEXT--\")\n",
    "        return \"\"\n",
    "    \n",
    "    \n",
    " \n",
    "    \n",
    "    "
   ]
  },
  {
   "cell_type": "code",
   "execution_count": 498,
   "id": "f280caaf",
   "metadata": {},
   "outputs": [],
   "source": [
    "L = LL()"
   ]
  },
  {
   "cell_type": "code",
   "execution_count": 499,
   "id": "7c139e38",
   "metadata": {},
   "outputs": [],
   "source": [
    "L.add(2,3)\n",
    "L.add(4,5)\n",
    "L.add(6,7)"
   ]
  },
  {
   "cell_type": "code",
   "execution_count": 500,
   "id": "7174ef2f",
   "metadata": {},
   "outputs": [
    {
     "name": "stdout",
     "output_type": "stream",
     "text": [
      "2 --> 3   4 --> 5   6 --> 7   "
     ]
    }
   ],
   "source": [
    "L.traverse()"
   ]
  },
  {
   "cell_type": "code",
   "execution_count": 501,
   "id": "24a5088a",
   "metadata": {},
   "outputs": [],
   "source": [
    "ans = L.get_node_at_index(2).key"
   ]
  },
  {
   "cell_type": "code",
   "execution_count": 502,
   "id": "d966ddfa",
   "metadata": {},
   "outputs": [
    {
     "name": "stdout",
     "output_type": "stream",
     "text": [
      "6\n"
     ]
    }
   ],
   "source": [
    "print(ans)"
   ]
  },
  {
   "cell_type": "code",
   "execution_count": null,
   "id": "215d5b07",
   "metadata": {},
   "outputs": [],
   "source": []
  },
  {
   "cell_type": "code",
   "execution_count": 503,
   "id": "0829cd79",
   "metadata": {},
   "outputs": [],
   "source": [
    "D1 = Dictionary(4)"
   ]
  },
  {
   "cell_type": "code",
   "execution_count": 504,
   "id": "9fd35795",
   "metadata": {},
   "outputs": [
    {
     "name": "stdout",
     "output_type": "stream",
     "text": [
      "0.25\n"
     ]
    }
   ],
   "source": [
    "D1.put(\"Python12212\",100)"
   ]
  },
  {
   "cell_type": "code",
   "execution_count": 505,
   "id": "93aeb7a7",
   "metadata": {},
   "outputs": [
    {
     "name": "stdout",
     "output_type": "stream",
     "text": [
      "0.5\n",
      "0.75\n"
     ]
    }
   ],
   "source": [
    "D1.put(\"Java12\",4)\n",
    "D1.put(\"Java223\",42)"
   ]
  },
  {
   "cell_type": "code",
   "execution_count": 506,
   "id": "a2066272",
   "metadata": {},
   "outputs": [
    {
     "name": "stdout",
     "output_type": "stream",
     "text": [
      "1.0\n",
      "1.25\n"
     ]
    }
   ],
   "source": [
    "D1.put(\"Php1\",1000)\n",
    "D1.put(\"Php2\",1200)\n"
   ]
  },
  {
   "cell_type": "code",
   "execution_count": 507,
   "id": "28c9c0a9",
   "metadata": {},
   "outputs": [
    {
     "name": "stdout",
     "output_type": "stream",
     "text": [
      "1.5\n",
      "1.75\n",
      "2.0\n",
      "0.125\n",
      "0.25\n",
      "0.375\n",
      "0.5\n",
      "0.625\n",
      "0.75\n",
      "0.875\n",
      "1.0\n"
     ]
    }
   ],
   "source": [
    "D1.put(\"Ruby\",100)\n",
    "D1.put(\"Ruby1\",100)\n",
    "D1.put(\"Ruby2\",100)"
   ]
  },
  {
   "cell_type": "code",
   "execution_count": 508,
   "id": "4087d261",
   "metadata": {},
   "outputs": [
    {
     "name": "stdout",
     "output_type": "stream",
     "text": [
      "Java223 --> 42   Php1 --> 1000   "
     ]
    }
   ],
   "source": [
    "D1.buckets[3].traverse()"
   ]
  },
  {
   "cell_type": "code",
   "execution_count": null,
   "id": "6361b4ca",
   "metadata": {},
   "outputs": [],
   "source": []
  },
  {
   "cell_type": "code",
   "execution_count": 509,
   "id": "6064ab8b",
   "metadata": {},
   "outputs": [
    {
     "name": "stdout",
     "output_type": "stream",
     "text": [
      "--NEXT--\n",
      "Python12212 --> 100   Ruby --> 100   --NEXT--\n",
      "Ruby1 --> 100   Ruby2 --> 100   --NEXT--\n",
      "Java223 --> 42   Php1 --> 1000   --NEXT--\n",
      "--NEXT--\n",
      "--NEXT--\n",
      "Java12 --> 4   Php2 --> 1200   --NEXT--\n",
      "--NEXT--\n",
      "\n"
     ]
    }
   ],
   "source": [
    "print(D1)"
   ]
  },
  {
   "cell_type": "code",
   "execution_count": 510,
   "id": "54f6ee6b",
   "metadata": {},
   "outputs": [
    {
     "data": {
      "text/plain": [
       "42"
      ]
     },
     "execution_count": 510,
     "metadata": {},
     "output_type": "execute_result"
    }
   ],
   "source": [
    "D1['Java223']"
   ]
  },
  {
   "cell_type": "code",
   "execution_count": 513,
   "id": "99c6041d",
   "metadata": {},
   "outputs": [],
   "source": [
    "del D1['Java12']"
   ]
  },
  {
   "cell_type": "code",
   "execution_count": 514,
   "id": "068c7124",
   "metadata": {},
   "outputs": [
    {
     "data": {
      "text/plain": [
       "6"
      ]
     },
     "execution_count": 514,
     "metadata": {},
     "output_type": "execute_result"
    }
   ],
   "source": [
    "len(D1)"
   ]
  },
  {
   "cell_type": "code",
   "execution_count": 516,
   "id": "bd8e834b",
   "metadata": {},
   "outputs": [
    {
     "name": "stdout",
     "output_type": "stream",
     "text": [
      "--NEXT--\n",
      "Python12212 --> 100   Ruby --> 100   --NEXT--\n",
      "Ruby1 --> 100   Ruby2 --> 100   --NEXT--\n",
      "Php1 --> 1000   --NEXT--\n",
      "--NEXT--\n",
      "--NEXT--\n",
      "Php2 --> 1200   --NEXT--\n",
      "--NEXT--\n",
      "\n"
     ]
    }
   ],
   "source": [
    "print(D1)"
   ]
  },
  {
   "cell_type": "code",
   "execution_count": null,
   "id": "99397085",
   "metadata": {},
   "outputs": [],
   "source": []
  }
 ],
 "metadata": {
  "kernelspec": {
   "display_name": "Python 3 (ipykernel)",
   "language": "python",
   "name": "python3"
  },
  "language_info": {
   "codemirror_mode": {
    "name": "ipython",
    "version": 3
   },
   "file_extension": ".py",
   "mimetype": "text/x-python",
   "name": "python",
   "nbconvert_exporter": "python",
   "pygments_lexer": "ipython3",
   "version": "3.9.16"
  }
 },
 "nbformat": 4,
 "nbformat_minor": 5
}
