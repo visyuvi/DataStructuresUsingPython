{
 "cells": [
  {
   "cell_type": "code",
   "execution_count": 146,
   "id": "a8824759",
   "metadata": {},
   "outputs": [],
   "source": [
    "class Dictionary:\n",
    "    \n",
    "    def __init__(self,size):\n",
    "        self.size = size\n",
    "        self.slots = [None]*self.size\n",
    "        self.data = [None]*self.size\n",
    "        \n",
    "    def put(self,key,value):\n",
    "        hash_value = self.hash_function(key)\n",
    "        \n",
    "        if self.slots[hash_value] == None:\n",
    "            self.slots[hash_value] = key\n",
    "            self.data[hash_value] = value\n",
    "        else:\n",
    "            \n",
    "            if self.slots[hash_value] == key:\n",
    "                self.data[hash_value] = value\n",
    "                \n",
    "            else:\n",
    "                new_hash_value = self.rehash(hash_value)\n",
    "                \n",
    "                while self.slots[new_hash_value]!=None and self.slots[new_hash_value] != key:\n",
    "                    new_hash_value = self.rehash(new_hash_value) \n",
    "                \n",
    "                if self.slots[new_hash_value] == None:\n",
    "                    self.slots[new_hash_value] = key\n",
    "                    self.data[new_hash_value] = value\n",
    "\n",
    "                else:\n",
    "                    self.data[new_hash_value] = value\n",
    "    \n",
    "    \n",
    "    \n",
    "    def __setitem__(self,key,value):\n",
    "        self.put(key,value)\n",
    "    \n",
    "    \n",
    "    def get(self,key):\n",
    "        \n",
    "        start_position = self.hash_function(key)\n",
    "        current_position = start_position\n",
    "        \n",
    "        \n",
    "        while(self.slots[current_position] != None):\n",
    "            if self.slots[current_position] == key:\n",
    "                return self.data[current_position]\n",
    "            \n",
    "            current_position = self.rehash(current_position)\n",
    "            \n",
    "            if current_position == start_position:\n",
    "                return \"Not Found\"\n",
    "        \n",
    "        return \"None wala..Not Found\"\n",
    "    \n",
    "    def __getitem__(self,key):\n",
    "        return self.get(key)\n",
    "        \n",
    "        \n",
    "    def __str__(self):\n",
    "               \n",
    "        for i in range(len(self.slots)):\n",
    "            if self.slots[i] != None:\n",
    "                print(self.slots[i],\":\", self.data[i],end=' ')\n",
    "                \n",
    "        return \"\"\n",
    "  \n",
    "        \n",
    "                       \n",
    "            \n",
    "        \n",
    " \n",
    "                            \n",
    "                    \n",
    "                \n",
    "                \n",
    "    \n",
    "    def rehash(self,old_hash):\n",
    "        return (old_hash+1)%self.size\n",
    "    \n",
    "    def hash_function(self,key):\n",
    "        return abs(hash(key)) % self.size\n",
    "            \n",
    "            \n",
    "        "
   ]
  },
  {
   "cell_type": "code",
   "execution_count": null,
   "id": "6dc19030",
   "metadata": {},
   "outputs": [],
   "source": []
  },
  {
   "cell_type": "code",
   "execution_count": 147,
   "id": "d8914a20",
   "metadata": {},
   "outputs": [],
   "source": [
    "D1 = Dictionary(3)"
   ]
  },
  {
   "cell_type": "code",
   "execution_count": 148,
   "id": "0e0c1417",
   "metadata": {},
   "outputs": [
    {
     "name": "stdout",
     "output_type": "stream",
     "text": [
      "[None, None, None]\n",
      "[None, None, None]\n"
     ]
    }
   ],
   "source": [
    "print(D1.slots)\n",
    "print(D1.data)"
   ]
  },
  {
   "cell_type": "code",
   "execution_count": 149,
   "id": "17f50795",
   "metadata": {},
   "outputs": [],
   "source": [
    "D1['python'] = 1000\n"
   ]
  },
  {
   "cell_type": "code",
   "execution_count": 150,
   "id": "0a4df025",
   "metadata": {},
   "outputs": [],
   "source": [
    "D1['c']  = 12"
   ]
  },
  {
   "cell_type": "code",
   "execution_count": null,
   "id": "3097441f",
   "metadata": {},
   "outputs": [],
   "source": []
  },
  {
   "cell_type": "code",
   "execution_count": 151,
   "id": "c0988648",
   "metadata": {},
   "outputs": [
    {
     "data": {
      "text/plain": [
       "1"
      ]
     },
     "execution_count": 151,
     "metadata": {},
     "output_type": "execute_result"
    }
   ],
   "source": [
    "abs(hash('c++'))%3"
   ]
  },
  {
   "cell_type": "code",
   "execution_count": 152,
   "id": "857116a3",
   "metadata": {},
   "outputs": [
    {
     "name": "stdout",
     "output_type": "stream",
     "text": [
      "python : 1000 c : 12 \n"
     ]
    }
   ],
   "source": [
    "print(D1)"
   ]
  },
  {
   "cell_type": "code",
   "execution_count": null,
   "id": "7f6025c0",
   "metadata": {},
   "outputs": [],
   "source": []
  },
  {
   "cell_type": "code",
   "execution_count": null,
   "id": "7f099583",
   "metadata": {},
   "outputs": [],
   "source": []
  }
 ],
 "metadata": {
  "kernelspec": {
   "display_name": "Python 3 (ipykernel)",
   "language": "python",
   "name": "python3"
  },
  "language_info": {
   "codemirror_mode": {
    "name": "ipython",
    "version": 3
   },
   "file_extension": ".py",
   "mimetype": "text/x-python",
   "name": "python",
   "nbconvert_exporter": "python",
   "pygments_lexer": "ipython3",
   "version": "3.9.16"
  }
 },
 "nbformat": 4,
 "nbformat_minor": 5
}
