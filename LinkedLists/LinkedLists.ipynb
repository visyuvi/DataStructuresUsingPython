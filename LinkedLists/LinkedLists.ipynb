{
 "cells": [
  {
   "cell_type": "code",
   "execution_count": 4,
   "id": "eb801961",
   "metadata": {},
   "outputs": [],
   "source": [
    "class Node:\n",
    "    \n",
    "    def __init__(self,value):\n",
    "        self.data = value\n",
    "        self.next = None"
   ]
  },
  {
   "cell_type": "code",
   "execution_count": 5,
   "id": "e01b40c3",
   "metadata": {},
   "outputs": [],
   "source": [
    "a = Node(1)\n",
    "b = Node(2)\n",
    "c = Node(3)"
   ]
  },
  {
   "cell_type": "code",
   "execution_count": 6,
   "id": "45eb8b6b",
   "metadata": {},
   "outputs": [],
   "source": [
    "a.next = b\n",
    "b.next = c"
   ]
  },
  {
   "cell_type": "code",
   "execution_count": null,
   "id": "3c69069d",
   "metadata": {},
   "outputs": [],
   "source": []
  },
  {
   "cell_type": "code",
   "execution_count": 45,
   "id": "73b3b4cd",
   "metadata": {},
   "outputs": [],
   "source": [
    "class LinkedList:\n",
    "    \n",
    "    def __init__(self):\n",
    "        #Empty Linked list\n",
    "        self.head = None\n",
    "        self.n = 0\n",
    "        \n",
    "    def __len__(self):\n",
    "        return self.n\n",
    "    \n",
    "    def insert_head(self,value):\n",
    "        #new node\n",
    "        new_node = Node(value)\n",
    "        #create connection\n",
    "        new_node.next = self.head\n",
    "        \n",
    "        #reassign head\n",
    "        self.head = new_node\n",
    "        \n",
    "        #increment n\n",
    "        self.n = self.n + 1\n",
    "        \n",
    "    def append(self,value):\n",
    "              \n",
    "        new_node = Node(value)\n",
    "        \n",
    "        if self.head == None:\n",
    "            #empty\n",
    "            self.head = new_node\n",
    "            self.n = self.n + 1\n",
    "            return\n",
    "                     \n",
    "        curr = self.head\n",
    "        \n",
    "        while curr.next!= None:\n",
    "            curr = curr.next\n",
    "        \n",
    "        curr.next = new_node\n",
    "        self.n = self.n + 1\n",
    "        \n",
    "    def insert_after(self,after,value):\n",
    "        \n",
    "        new_node = Node(value)\n",
    "        \n",
    "        curr = self.head\n",
    "        \n",
    "        while(curr != None):\n",
    "            if curr.data == after:\n",
    "                break\n",
    "            curr = curr.next\n",
    "        \n",
    "        if curr !=None:\n",
    "            new_node.next = curr.next\n",
    "            curr.next = new_node\n",
    "            self.n = self.n + 1\n",
    "        \n",
    "        else:\n",
    "            return 'Item not found'\n",
    "        \n",
    "    def clear(self):\n",
    "        self.head = None\n",
    "        self.n = 0\n",
    "        \n",
    "    def delete_head(self):\n",
    "        \n",
    "        if(self.head == None):\n",
    "            return \"List is empty\"\n",
    "        \n",
    "        self.head = self.head.next\n",
    "        self.n = self.n - 1\n",
    "        \n",
    "    def pop(self):\n",
    "        \n",
    "        if self.head == None:\n",
    "            return 'LL empty'\n",
    "        \n",
    "        curr = self.head\n",
    "        \n",
    "        \n",
    "        if curr.next == None:\n",
    "            return self.delete_head()\n",
    "        \n",
    "              \n",
    "        while curr.next.next != None:\n",
    "            curr = curr.next\n",
    "        \n",
    "        #curr on 2nd last node\n",
    "        curr.next = None\n",
    "        self.n = self.n - 1\n",
    "        \n",
    "        \n",
    "    def remove(self, value):\n",
    "        \n",
    "        if self.head == None:\n",
    "            return 'LL empty'\n",
    "        \n",
    "        if self.head.data == value:\n",
    "            return self.delete_head()\n",
    "        \n",
    "        curr = self.head\n",
    "        \n",
    "        while curr.next != None:\n",
    "            if curr.next.data == value:\n",
    "                break\n",
    "            curr = curr.next\n",
    "            \n",
    "        #2 cases \n",
    "        if curr.next == None:\n",
    "            return \"Not found\"\n",
    "        else:\n",
    "            curr.next =  curr.next.next\n",
    "            self.n = self.n - 1 \n",
    "            \n",
    "        \n",
    "        \n",
    "           \n",
    "        \n",
    "        \n",
    "               \n",
    "    \n",
    "    def __str__(self):\n",
    "        \n",
    "        curr = self.head\n",
    "        \n",
    "        result = ''\n",
    "        \n",
    "        while curr!= None:\n",
    "            result = result + str(curr.data) + ' '\n",
    "            curr = curr.next\n",
    "        \n",
    "        return result[:-1]\n",
    "    \n",
    "    def search(self,item):\n",
    "        \n",
    "        curr = self.head\n",
    "        pos = 0\n",
    "        \n",
    "        while curr != None:\n",
    "            if curr.data == item:\n",
    "                return pos\n",
    "            pos = pos + 1\n",
    "            curr = curr.next\n",
    "        \n",
    "        return 'Not found'     \n",
    "        \n",
    "        \n",
    "    def __getitem__(self,index):\n",
    "        \n",
    "        curr = self.head\n",
    "        \n",
    "        pos = 0\n",
    "        \n",
    "        while curr != None:\n",
    "            \n",
    "            if pos==index:\n",
    "                return curr.data\n",
    "            \n",
    "            curr = curr.next\n",
    "            pos = pos + 1\n",
    "        \n",
    "        return 'IndexError'\n",
    "\n",
    "    def replace_max(self,value):\n",
    "        \n",
    "        temp = self.head\n",
    "        \n",
    "        max = temp\n",
    "        \n",
    "        while temp != None:\n",
    "            if temp.data > max.data:\n",
    "                max = temp\n",
    "            temp = temp.next\n",
    "        \n",
    "        max.data = value\n",
    "\n",
    "        \n",
    "    def reverse(self):\n",
    "        \n",
    "        prev_node = None\n",
    "        curr_node = self.head\n",
    "        \n",
    "        while curr_node != None:\n",
    "            next_node = curr_node.next\n",
    "            curr_node.next = prev_node\n",
    "            prev_node = curr_node\n",
    "            curr_node = next_node\n",
    "        \n",
    "        self.head = prev_node\n",
    "        \n",
    "            \n",
    "    def change_sent(self):\n",
    "       \n",
    "        \n",
    "        temp = self.head\n",
    "        \n",
    "        while(temp != None):\n",
    "            \n",
    "            if temp.data == '*' or temp.data== '/' :\n",
    "                temp.data = ' '\n",
    "                if temp.next.data == '*' or temp.next.data == '/':\n",
    "                    temp.next.next.data = temp.next.next.data.upper()\n",
    "                    temp.next = temp.next.next\n",
    "                    \n",
    "                \n",
    "            \n",
    "            temp = temp.next\n",
    "                 \n",
    "            \n",
    "            \n",
    "\n",
    "        \n",
    "        \n",
    "    \n",
    "            \n",
    "        \n",
    "    \n",
    "    \n",
    "    \n",
    "    \n",
    "    \n",
    "        \n",
    "        \n",
    "        "
   ]
  },
  {
   "cell_type": "code",
   "execution_count": 46,
   "id": "2f43c225",
   "metadata": {},
   "outputs": [],
   "source": [
    "L = LinkedList()\n",
    "L.change_sent()\n"
   ]
  },
  {
   "cell_type": "code",
   "execution_count": 47,
   "id": "b5805ddc",
   "metadata": {},
   "outputs": [
    {
     "name": "stdout",
     "output_type": "stream",
     "text": [
      "T h e   S k y   i s   B l u e\n"
     ]
    }
   ],
   "source": [
    "L.insert_head('T')\n",
    "L.append('h')\n",
    "L.append('e')\n",
    "L.append(\"/\")\n",
    "L.append('*')\n",
    "L.append('s')\n",
    "L.append('k')\n",
    "L.append(\"y\")\n",
    "L.append('*')\n",
    "L.append('i')\n",
    "L.append('s')\n",
    "L.append(\"/\")\n",
    "L.append(\"/\")\n",
    "L.append(\"b\")\n",
    "L.append(\"l\")\n",
    "L.append(\"u\")\n",
    "L.append(\"e\")\n",
    "\n",
    "L.change_sent()\n",
    "print(L)"
   ]
  },
  {
   "cell_type": "code",
   "execution_count": 26,
   "id": "81aba737",
   "metadata": {},
   "outputs": [],
   "source": [
    "L.reverse()"
   ]
  },
  {
   "cell_type": "code",
   "execution_count": 286,
   "id": "58b51518",
   "metadata": {},
   "outputs": [],
   "source": [
    "L.replace_max(4)"
   ]
  },
  {
   "cell_type": "code",
   "execution_count": 304,
   "id": "811e5768",
   "metadata": {},
   "outputs": [],
   "source": [
    "L.insert_head(123)"
   ]
  },
  {
   "cell_type": "code",
   "execution_count": 12,
   "id": "a207e404",
   "metadata": {},
   "outputs": [
    {
     "name": "stdout",
     "output_type": "stream",
     "text": [
      "T->e->u->l->b->/->/->s->i->*->y->k->s->*->/->e->h->T->h->e->/->*->s->k->y->*->i->s->/->/->b->l->u->e\n"
     ]
    }
   ],
   "source": [
    "print((L))"
   ]
  },
  {
   "cell_type": "code",
   "execution_count": 269,
   "id": "4aa5849c",
   "metadata": {},
   "outputs": [
    {
     "data": {
      "text/plain": [
       "3"
      ]
     },
     "execution_count": 269,
     "metadata": {},
     "output_type": "execute_result"
    }
   ],
   "source": [
    "L.search(1)"
   ]
  },
  {
   "cell_type": "code",
   "execution_count": 270,
   "id": "1f3a1ed5",
   "metadata": {},
   "outputs": [],
   "source": [
    "L.remove(3)"
   ]
  },
  {
   "cell_type": "code",
   "execution_count": 272,
   "id": "a239819a",
   "metadata": {},
   "outputs": [
    {
     "data": {
      "text/plain": [
       "'IndexError'"
      ]
     },
     "execution_count": 272,
     "metadata": {},
     "output_type": "execute_result"
    }
   ],
   "source": [
    "L[5]"
   ]
  },
  {
   "cell_type": "code",
   "execution_count": 271,
   "id": "f3248477",
   "metadata": {},
   "outputs": [
    {
     "name": "stdout",
     "output_type": "stream",
     "text": [
      "3\n"
     ]
    }
   ],
   "source": [
    "print(len(L))"
   ]
  },
  {
   "cell_type": "code",
   "execution_count": 202,
   "id": "e039c1f8",
   "metadata": {},
   "outputs": [
    {
     "data": {
      "text/plain": [
       "'Empty Linked List'"
      ]
     },
     "execution_count": 202,
     "metadata": {},
     "output_type": "execute_result"
    }
   ],
   "source": [
    "L.pop()"
   ]
  },
  {
   "cell_type": "code",
   "execution_count": 152,
   "id": "4119d4d8",
   "metadata": {},
   "outputs": [
    {
     "data": {
      "text/plain": [
       "'List is empty'"
      ]
     },
     "execution_count": 152,
     "metadata": {},
     "output_type": "execute_result"
    }
   ],
   "source": [
    "L.delete_head()\n",
    " "
   ]
  },
  {
   "cell_type": "code",
   "execution_count": 124,
   "id": "c3526f71",
   "metadata": {},
   "outputs": [
    {
     "name": "stdout",
     "output_type": "stream",
     "text": [
      "\n"
     ]
    }
   ],
   "source": [
    "L.clear()\n",
    "print(L)"
   ]
  },
  {
   "cell_type": "code",
   "execution_count": 115,
   "id": "e923d62b",
   "metadata": {},
   "outputs": [],
   "source": [
    "L.append(5)"
   ]
  },
  {
   "cell_type": "code",
   "execution_count": 116,
   "id": "288257a8",
   "metadata": {},
   "outputs": [
    {
     "data": {
      "text/plain": [
       "'Item not found'"
      ]
     },
     "execution_count": 116,
     "metadata": {},
     "output_type": "execute_result"
    }
   ],
   "source": [
    "L.insert_after(2,200)"
   ]
  },
  {
   "cell_type": "code",
   "execution_count": null,
   "id": "8bcde919",
   "metadata": {},
   "outputs": [],
   "source": []
  },
  {
   "cell_type": "code",
   "execution_count": null,
   "id": "4aeb3e16",
   "metadata": {},
   "outputs": [],
   "source": []
  }
 ],
 "metadata": {
  "kernelspec": {
   "display_name": "Python 3 (ipykernel)",
   "language": "python",
   "name": "python3"
  },
  "language_info": {
   "codemirror_mode": {
    "name": "ipython",
    "version": 3
   },
   "file_extension": ".py",
   "mimetype": "text/x-python",
   "name": "python",
   "nbconvert_exporter": "python",
   "pygments_lexer": "ipython3",
   "version": "3.9.16"
  }
 },
 "nbformat": 4,
 "nbformat_minor": 5
}
