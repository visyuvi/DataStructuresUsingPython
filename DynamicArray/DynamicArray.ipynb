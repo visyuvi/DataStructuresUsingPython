{
 "cells": [
  {
   "cell_type": "code",
   "execution_count": 271,
   "id": "f0f0748e",
   "metadata": {},
   "outputs": [],
   "source": [
    "import ctypes "
   ]
  },
  {
   "cell_type": "code",
   "execution_count": 295,
   "id": "893985c6",
   "metadata": {},
   "outputs": [],
   "source": [
    "class MeraList:\n",
    "    def __init__(self):\n",
    "        self.size = 1 \n",
    "        self.n = 0\n",
    "        \n",
    "        #create a C type array with size = self.size\n",
    "        self.A = self.__make_array(self.size)\n",
    "        \n",
    "       \n",
    "    def append(self,item):\n",
    "        \n",
    "        if self.size == self.n:\n",
    "            #resize\n",
    "            self.__resize(self.size*2)\n",
    "            \n",
    "            \n",
    "        #append\n",
    "        self.A[self.n] = item\n",
    "        self.n = self.n + 1\n",
    "        \n",
    "    def pop(self):\n",
    "        \n",
    "        if self.n == 0:\n",
    "            return 'List is already empty!'\n",
    "        print(self.A[self.n -1])\n",
    "        self.n = self.n-1\n",
    "        \n",
    "    def clear(self):\n",
    "        self.n = 0\n",
    "        self.size = 1\n",
    "        \n",
    "    def find(self, item):\n",
    "        \n",
    "        for i in range(self.n):\n",
    "            if self.A[i] == item:\n",
    "                return i\n",
    "        \n",
    "        return 'ValueError - not in List'\n",
    "    \n",
    "    def insert(self,pos,item):\n",
    "        if self.n == self.size:\n",
    "            self.__resize(self.size*2)\n",
    "        \n",
    "        for i in range(self.n,pos,-1):\n",
    "            self.A[i] = self.A[i-1]\n",
    "        \n",
    "        self.A[pos] = item\n",
    "        self.n = self.n + 1\n",
    "        \n",
    "    def remove(self,item):\n",
    "        pos = self.find(item)\n",
    "        \n",
    "        if type(pos) == int:\n",
    "            self.__delitem__(pos)\n",
    "            \n",
    "        else:\n",
    "            return pos\n",
    "        \n",
    "        \n",
    "    def __len__(self):\n",
    "        return  self.n\n",
    "    \n",
    "    def __str__(self):\n",
    "        result = ''\n",
    "        for i in range(self.n):\n",
    "            result = result + str(self.A[i])+', '\n",
    "        return '[' + result[:-2] + ']'\n",
    "    \n",
    "    def __getitem__(self, index):\n",
    "        if 0 <= index < self.n:\n",
    "            return self.A[index]\n",
    "        \n",
    "        else:\n",
    "            return 'IndexError - Index out of range'\n",
    "        \n",
    "    def __delitem__(self,pos):\n",
    "        #delete \n",
    "        if 0<= pos <self.n:\n",
    "            for i in range(pos,self.n-2):\n",
    "                self.A[i] = self.A[i+1]\n",
    "\n",
    "            self.n = self.n - 1\n",
    "            \n",
    "\n",
    "    \n",
    "    def __resize(self, new_capacity):\n",
    "        #create a new array with  new capacity\n",
    "                \n",
    "        B  = self.__make_array(new_capacity)\n",
    "        self.size = new_capacity\n",
    "        \n",
    "        #copy the contents  of A to B\n",
    "        for i in range(self.n):\n",
    "            B[i] = self.A[i]\n",
    "            \n",
    "        #reassign A\n",
    "        self.A = B\n",
    "        \n",
    "        \n",
    "    def __make_array(self,capacity):\n",
    "        #creates a C type array(static, referential) with  size capacity\n",
    "        return (capacity*ctypes.py_object)()\n",
    "        \n",
    "        \n",
    "        \n",
    "        "
   ]
  },
  {
   "cell_type": "code",
   "execution_count": 296,
   "id": "81b492cd",
   "metadata": {},
   "outputs": [],
   "source": [
    "L = MeraList()"
   ]
  },
  {
   "cell_type": "code",
   "execution_count": 297,
   "id": "969625ba",
   "metadata": {},
   "outputs": [],
   "source": [
    "L.append('hello')\n",
    "L.append(3.14)\n",
    "L.append(True)\n",
    "L.append(100)\n",
    "L.append('spider')"
   ]
  },
  {
   "cell_type": "code",
   "execution_count": 298,
   "id": "9aee33f0",
   "metadata": {},
   "outputs": [
    {
     "name": "stdout",
     "output_type": "stream",
     "text": [
      "[hello, 3.14, True, 100, spider]\n"
     ]
    }
   ],
   "source": [
    "print(L)"
   ]
  },
  {
   "cell_type": "code",
   "execution_count": 306,
   "id": "f7018c17",
   "metadata": {},
   "outputs": [
    {
     "name": "stdout",
     "output_type": "stream",
     "text": [
      "None\n",
      "[True, 100, 100]\n"
     ]
    }
   ],
   "source": [
    "print(L.remove('hello'))\n",
    "print(L)"
   ]
  },
  {
   "cell_type": "code",
   "execution_count": null,
   "id": "0ae01a77",
   "metadata": {},
   "outputs": [],
   "source": []
  },
  {
   "cell_type": "code",
   "execution_count": 294,
   "id": "0fe00b9a",
   "metadata": {},
   "outputs": [
    {
     "name": "stdout",
     "output_type": "stream",
     "text": [
      "[hello, 100, 100]\n"
     ]
    }
   ],
   "source": [
    "del L[1]\n",
    "print(L)"
   ]
  },
  {
   "cell_type": "code",
   "execution_count": 203,
   "id": "73b3a97f",
   "metadata": {},
   "outputs": [
    {
     "data": {
      "text/plain": [
       "'IndexError - Index out of range'"
      ]
     },
     "execution_count": 203,
     "metadata": {},
     "output_type": "execute_result"
    }
   ],
   "source": [
    "L[-1]"
   ]
  },
  {
   "cell_type": "code",
   "execution_count": 240,
   "id": "1c73c128",
   "metadata": {},
   "outputs": [],
   "source": [
    "L = [10,20,30,'spdier']"
   ]
  },
  {
   "cell_type": "code",
   "execution_count": 199,
   "id": "0a1f0e08",
   "metadata": {},
   "outputs": [
    {
     "data": {
      "text/plain": [
       "4"
      ]
     },
     "execution_count": 199,
     "metadata": {},
     "output_type": "execute_result"
    }
   ],
   "source": [
    "len(L)"
   ]
  },
  {
   "cell_type": "code",
   "execution_count": 186,
   "id": "b8b66551",
   "metadata": {},
   "outputs": [],
   "source": [
    "L.append('hello')"
   ]
  },
  {
   "cell_type": "code",
   "execution_count": 154,
   "id": "c4df10c6",
   "metadata": {},
   "outputs": [
    {
     "name": "stdout",
     "output_type": "stream",
     "text": [
      "[10, 20, 30, 'spdier', 'hello']\n"
     ]
    }
   ],
   "source": [
    "print(L)\n"
   ]
  },
  {
   "cell_type": "code",
   "execution_count": 182,
   "id": "514e6f9c",
   "metadata": {},
   "outputs": [
    {
     "data": {
      "text/plain": [
       "True"
      ]
     },
     "execution_count": 182,
     "metadata": {},
     "output_type": "execute_result"
    }
   ],
   "source": [
    "L[2]"
   ]
  },
  {
   "cell_type": "code",
   "execution_count": 228,
   "id": "9a41403b",
   "metadata": {},
   "outputs": [
    {
     "data": {
      "text/plain": [
       "'List is already empty!'"
      ]
     },
     "execution_count": 228,
     "metadata": {},
     "output_type": "execute_result"
    }
   ],
   "source": [
    "L.pop()"
   ]
  },
  {
   "cell_type": "code",
   "execution_count": 241,
   "id": "312e0229",
   "metadata": {},
   "outputs": [],
   "source": [
    "L.clear()"
   ]
  },
  {
   "cell_type": "code",
   "execution_count": 286,
   "id": "544c1638",
   "metadata": {},
   "outputs": [
    {
     "name": "stdout",
     "output_type": "stream",
     "text": [
      "[hello, 10, 3.14, 1010, 10, True, 100, spider]\n"
     ]
    }
   ],
   "source": [
    "L.insert(1,10);print(L)"
   ]
  },
  {
   "cell_type": "code",
   "execution_count": 307,
   "id": "a3a3b0db",
   "metadata": {},
   "outputs": [],
   "source": [
    "L = []"
   ]
  },
  {
   "cell_type": "code",
   "execution_count": 314,
   "id": "1513ef1c",
   "metadata": {},
   "outputs": [],
   "source": [
    "L.append('hello1')"
   ]
  },
  {
   "cell_type": "code",
   "execution_count": 315,
   "id": "4b279b5c",
   "metadata": {},
   "outputs": [],
   "source": [
    "L.remove('hello')"
   ]
  },
  {
   "cell_type": "code",
   "execution_count": 316,
   "id": "5f4e30cb",
   "metadata": {},
   "outputs": [
    {
     "data": {
      "text/plain": [
       "['hello', 'hello', 'hello1']"
      ]
     },
     "execution_count": 316,
     "metadata": {},
     "output_type": "execute_result"
    }
   ],
   "source": [
    "L"
   ]
  },
  {
   "cell_type": "code",
   "execution_count": null,
   "id": "65f690ea",
   "metadata": {},
   "outputs": [],
   "source": []
  }
 ],
 "metadata": {
  "kernelspec": {
   "display_name": "Python 3 (ipykernel)",
   "language": "python",
   "name": "python3"
  },
  "language_info": {
   "codemirror_mode": {
    "name": "ipython",
    "version": 3
   },
   "file_extension": ".py",
   "mimetype": "text/x-python",
   "name": "python",
   "nbconvert_exporter": "python",
   "pygments_lexer": "ipython3",
   "version": "3.9.16"
  }
 },
 "nbformat": 4,
 "nbformat_minor": 5
}
