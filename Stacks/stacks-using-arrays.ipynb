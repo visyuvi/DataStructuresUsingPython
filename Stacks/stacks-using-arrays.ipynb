{
 "cells": [
  {
   "cell_type": "code",
   "execution_count": 79,
   "id": "76e3bb55",
   "metadata": {},
   "outputs": [],
   "source": [
    "class Stack:\n",
    "    \n",
    "    def __init__(self,size):\n",
    "        self.size = size\n",
    "        self.__stack = [None] * self.size\n",
    "        self.top = -1\n",
    "        \n",
    "    def push(self,value):\n",
    "        \n",
    "        if(self.top==self.size - 1):\n",
    "            return \"Overflow\"\n",
    "        \n",
    "        self.top += 1\n",
    "        self.__stack[self.top] = value\n",
    "        \n",
    "    def pop(self):\n",
    "        \n",
    "        if(self.top==-1):\n",
    "            return \"Stack empty\"\n",
    "        \n",
    "        data = self.__stack[self.top]\n",
    "        self.top -= 1\n",
    "        print(data)\n",
    "        \n",
    "    def traverse(self):\n",
    "        for i in range(self.top + 1):\n",
    "            print(self.__stack[i],end=' ')\n",
    "        \n",
    "        \n",
    "         "
   ]
  },
  {
   "cell_type": "code",
   "execution_count": 80,
   "id": "a369a78e",
   "metadata": {},
   "outputs": [],
   "source": [
    "s = Stack(3)"
   ]
  },
  {
   "cell_type": "code",
   "execution_count": null,
   "id": "dfd0202f",
   "metadata": {},
   "outputs": [],
   "source": []
  },
  {
   "cell_type": "code",
   "execution_count": 81,
   "id": "5c812939",
   "metadata": {},
   "outputs": [
    {
     "name": "stdout",
     "output_type": "stream",
     "text": [
      "5\n"
     ]
    }
   ],
   "source": [
    "s.push(3)\n",
    "s.push(4)\n",
    "s.push(5)\n",
    "s.pop()\n",
    "s.push(10)\n"
   ]
  },
  {
   "cell_type": "code",
   "execution_count": 85,
   "id": "05947ca7",
   "metadata": {},
   "outputs": [],
   "source": [
    "s.push(10)"
   ]
  },
  {
   "cell_type": "code",
   "execution_count": 83,
   "id": "625a6f99",
   "metadata": {},
   "outputs": [
    {
     "name": "stdout",
     "output_type": "stream",
     "text": [
      "10\n"
     ]
    }
   ],
   "source": [
    "s.pop()"
   ]
  },
  {
   "cell_type": "code",
   "execution_count": 86,
   "id": "1ae23c62",
   "metadata": {},
   "outputs": [
    {
     "name": "stdout",
     "output_type": "stream",
     "text": [
      "3 4 10 "
     ]
    },
    {
     "data": {
      "text/plain": [
       "2"
      ]
     },
     "execution_count": 86,
     "metadata": {},
     "output_type": "execute_result"
    }
   ],
   "source": [
    "s.traverse()\n",
    "s.top"
   ]
  },
  {
   "cell_type": "code",
   "execution_count": null,
   "id": "8be783de",
   "metadata": {},
   "outputs": [],
   "source": []
  },
  {
   "cell_type": "code",
   "execution_count": null,
   "id": "21e616fe",
   "metadata": {},
   "outputs": [],
   "source": []
  }
 ],
 "metadata": {
  "kernelspec": {
   "display_name": "Python 3 (ipykernel)",
   "language": "python",
   "name": "python3"
  },
  "language_info": {
   "codemirror_mode": {
    "name": "ipython",
    "version": 3
   },
   "file_extension": ".py",
   "mimetype": "text/x-python",
   "name": "python",
   "nbconvert_exporter": "python",
   "pygments_lexer": "ipython3",
   "version": "3.9.16"
  }
 },
 "nbformat": 4,
 "nbformat_minor": 5
}
