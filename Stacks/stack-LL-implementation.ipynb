{
 "cells": [
  {
   "cell_type": "code",
   "execution_count": 15,
   "id": "06043e44",
   "metadata": {},
   "outputs": [],
   "source": [
    "class Node:\n",
    "    \n",
    "    def __init__(self,value):\n",
    "        self.data = value\n",
    "        self.next = None"
   ]
  },
  {
   "cell_type": "code",
   "execution_count": 91,
   "id": "b5eae73c",
   "metadata": {},
   "outputs": [],
   "source": [
    "class Stack:\n",
    "    \n",
    "    def __init__(self):\n",
    "        self.top = None\n",
    "    \n",
    "    def isempty(self):\n",
    "        return self.top == None\n",
    "    \n",
    "    def push(self,value):\n",
    "        \n",
    "        new_node = Node(value)\n",
    "        \n",
    "        new_node.next = self.top\n",
    "        \n",
    "        self.top = new_node\n",
    "        \n",
    "    def peek(self):\n",
    "        \n",
    "        if (self.isempty()):\n",
    "            return \"Stack Empty\"\n",
    "        else:\n",
    "            return self.top.data\n",
    "        \n",
    "    def pop(self):\n",
    "        if (self.isempty()):\n",
    "            return \"Stack Empty\"\n",
    "        else:\n",
    "            data  = self.top.data\n",
    "            self.top = self.top.next\n",
    "        return data\n",
    "        \n",
    "    \n",
    "    def traverse(self):\n",
    "        \n",
    "        temp  = self.top\n",
    "        \n",
    "        while temp != None:\n",
    "            print(temp.data)\n",
    "            temp = temp.next\n",
    "            \n",
    "        \n",
    "    \n",
    "    \n",
    "        \n",
    "    "
   ]
  },
  {
   "cell_type": "code",
   "execution_count": 132,
   "id": "ff7644da",
   "metadata": {},
   "outputs": [],
   "source": [
    "def reverse_string(text):\n",
    "    \n",
    "    s = Stack()\n",
    "    for i in text:\n",
    "        s.push(i)\n",
    "    \n",
    "    res = \"\"\n",
    "    while(s.isempty() == False):\n",
    "        res = res + s.pop()\n",
    "        \n",
    "    print (res)\n",
    "    \n",
    "    \n",
    "        \n"
   ]
  },
  {
   "cell_type": "code",
   "execution_count": 133,
   "id": "aa30e4ff",
   "metadata": {},
   "outputs": [],
   "source": [
    "S = Stack()"
   ]
  },
  {
   "cell_type": "code",
   "execution_count": 134,
   "id": "8430049d",
   "metadata": {},
   "outputs": [
    {
     "data": {
      "text/plain": [
       "True"
      ]
     },
     "execution_count": 134,
     "metadata": {},
     "output_type": "execute_result"
    }
   ],
   "source": [
    "S.isempty()"
   ]
  },
  {
   "cell_type": "code",
   "execution_count": 135,
   "id": "450d5bdd",
   "metadata": {},
   "outputs": [],
   "source": [
    "S.push(3)\n",
    "S.push(4)\n",
    "S.push(5)\n"
   ]
  },
  {
   "cell_type": "code",
   "execution_count": 136,
   "id": "1b6d322b",
   "metadata": {},
   "outputs": [
    {
     "name": "stdout",
     "output_type": "stream",
     "text": [
      "5\n",
      "4\n",
      "3\n"
     ]
    }
   ],
   "source": [
    "S.traverse()"
   ]
  },
  {
   "cell_type": "code",
   "execution_count": 137,
   "id": "d2924fd2",
   "metadata": {},
   "outputs": [
    {
     "data": {
      "text/plain": [
       "5"
      ]
     },
     "execution_count": 137,
     "metadata": {},
     "output_type": "execute_result"
    }
   ],
   "source": [
    "S.peek()"
   ]
  },
  {
   "cell_type": "code",
   "execution_count": 138,
   "id": "311e9c97",
   "metadata": {},
   "outputs": [
    {
     "data": {
      "text/plain": [
       "5"
      ]
     },
     "execution_count": 138,
     "metadata": {},
     "output_type": "execute_result"
    }
   ],
   "source": [
    "S.pop()"
   ]
  },
  {
   "cell_type": "code",
   "execution_count": 139,
   "id": "8fd9cc72",
   "metadata": {},
   "outputs": [
    {
     "name": "stdout",
     "output_type": "stream",
     "text": [
      "redips\n"
     ]
    }
   ],
   "source": [
    "reverse_string('spider')"
   ]
  },
  {
   "cell_type": "code",
   "execution_count": null,
   "id": "03a0494b",
   "metadata": {},
   "outputs": [],
   "source": []
  },
  {
   "cell_type": "code",
   "execution_count": null,
   "id": "b93a6463",
   "metadata": {},
   "outputs": [],
   "source": []
  },
  {
   "cell_type": "code",
   "execution_count": null,
   "id": "0302b564",
   "metadata": {},
   "outputs": [],
   "source": []
  }
 ],
 "metadata": {
  "kernelspec": {
   "display_name": "Python 3 (ipykernel)",
   "language": "python",
   "name": "python3"
  },
  "language_info": {
   "codemirror_mode": {
    "name": "ipython",
    "version": 3
   },
   "file_extension": ".py",
   "mimetype": "text/x-python",
   "name": "python",
   "nbconvert_exporter": "python",
   "pygments_lexer": "ipython3",
   "version": "3.9.16"
  }
 },
 "nbformat": 4,
 "nbformat_minor": 5
}
