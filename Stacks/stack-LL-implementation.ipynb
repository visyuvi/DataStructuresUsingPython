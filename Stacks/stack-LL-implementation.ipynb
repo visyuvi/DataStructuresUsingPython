{
 "cells": [
  {
   "cell_type": "code",
   "execution_count": 339,
   "id": "06043e44",
   "metadata": {},
   "outputs": [],
   "source": [
    "class Node:\n",
    "    \n",
    "    def __init__(self,value):\n",
    "        self.data = value\n",
    "        self.next = None"
   ]
  },
  {
   "cell_type": "code",
   "execution_count": 340,
   "id": "b5eae73c",
   "metadata": {},
   "outputs": [],
   "source": [
    "class Stack:\n",
    "    \n",
    "    def __init__(self):\n",
    "        self.top = None\n",
    "        self.n=0\n",
    "    \n",
    "    def isempty(self):\n",
    "        return self.top == None\n",
    "    \n",
    "    def push(self,value):\n",
    "        \n",
    "        new_node = Node(value)\n",
    "        \n",
    "        new_node.next = self.top\n",
    "        \n",
    "        self.top = new_node\n",
    "        self.n = self.n + 1\n",
    "        \n",
    "    def peek(self):\n",
    "        \n",
    "        if (self.isempty()):\n",
    "            return \"Stack Empty\"\n",
    "        else:\n",
    "            return self.top.data\n",
    "        \n",
    "    def pop(self):\n",
    "        if (self.isempty()):\n",
    "            return \"Stack Empty\"\n",
    "        else:\n",
    "            data  = self.top.data\n",
    "            self.top = self.top.next\n",
    "            self.n = self.n - 1\n",
    "        return data\n",
    "        \n",
    "    \n",
    "    def traverse(self):\n",
    "        \n",
    "        temp  = self.top\n",
    "        \n",
    "        while temp != None:\n",
    "            print(temp.data)\n",
    "            temp = temp.next\n",
    "            \n",
    "   \n",
    "    def size(self):\n",
    "        return self.n\n",
    "            \n",
    "        \n",
    "    \n",
    "    \n",
    "        \n",
    "    "
   ]
  },
  {
   "cell_type": "code",
   "execution_count": 341,
   "id": "ff7644da",
   "metadata": {},
   "outputs": [],
   "source": [
    "def reverse_string(text):\n",
    "    \n",
    "    s = Stack()\n",
    "    for i in text:\n",
    "        s.push(i)\n",
    "    \n",
    "    res = \"\"\n",
    "    while(s.isempty() == False):\n",
    "        res = res + s.pop()\n",
    "        \n",
    "    print (res)\n",
    "    \n",
    "    \n",
    "        \n"
   ]
  },
  {
   "cell_type": "code",
   "execution_count": 342,
   "id": "7e24a3c9",
   "metadata": {},
   "outputs": [],
   "source": [
    "def text_editor(text, pattern):\n",
    "    u = Stack()\n",
    "    r = Stack()\n",
    "    \n",
    "    for i in text:\n",
    "        u.push(i)\n",
    "        \n",
    "    for i in pattern:\n",
    "        \n",
    "        if i == 'u':\n",
    "            data = u.pop()\n",
    "            r.push(data)\n",
    "        \n",
    "        else:\n",
    "            data = r.pop()\n",
    "            u.push(data)\n",
    "    \n",
    "    res = \"\"\n",
    "    while(not u.isempty()):\n",
    "        res = u.pop() + res\n",
    "    \n",
    "    print(res)\n",
    "        "
   ]
  },
  {
   "cell_type": "code",
   "execution_count": 343,
   "id": "aa30e4ff",
   "metadata": {},
   "outputs": [],
   "source": [
    "S = Stack()"
   ]
  },
  {
   "cell_type": "code",
   "execution_count": 344,
   "id": "8430049d",
   "metadata": {},
   "outputs": [
    {
     "data": {
      "text/plain": [
       "True"
      ]
     },
     "execution_count": 344,
     "metadata": {},
     "output_type": "execute_result"
    }
   ],
   "source": [
    "S.isempty()"
   ]
  },
  {
   "cell_type": "code",
   "execution_count": 345,
   "id": "450d5bdd",
   "metadata": {},
   "outputs": [],
   "source": [
    "S.push(3)\n",
    "S.push(4)\n",
    "S.push(5)\n"
   ]
  },
  {
   "cell_type": "code",
   "execution_count": 346,
   "id": "1b6d322b",
   "metadata": {},
   "outputs": [
    {
     "name": "stdout",
     "output_type": "stream",
     "text": [
      "5\n",
      "4\n",
      "3\n"
     ]
    }
   ],
   "source": [
    "S.traverse()"
   ]
  },
  {
   "cell_type": "code",
   "execution_count": 347,
   "id": "d2924fd2",
   "metadata": {},
   "outputs": [
    {
     "data": {
      "text/plain": [
       "5"
      ]
     },
     "execution_count": 347,
     "metadata": {},
     "output_type": "execute_result"
    }
   ],
   "source": [
    "S.peek()"
   ]
  },
  {
   "cell_type": "code",
   "execution_count": 348,
   "id": "311e9c97",
   "metadata": {},
   "outputs": [
    {
     "data": {
      "text/plain": [
       "5"
      ]
     },
     "execution_count": 348,
     "metadata": {},
     "output_type": "execute_result"
    }
   ],
   "source": [
    "S.pop()"
   ]
  },
  {
   "cell_type": "code",
   "execution_count": 349,
   "id": "8fd9cc72",
   "metadata": {},
   "outputs": [
    {
     "name": "stdout",
     "output_type": "stream",
     "text": [
      "redips\n"
     ]
    }
   ],
   "source": [
    "reverse_string('spider')"
   ]
  },
  {
   "cell_type": "code",
   "execution_count": 350,
   "id": "03a0494b",
   "metadata": {},
   "outputs": [
    {
     "name": "stdout",
     "output_type": "stream",
     "text": [
      "Kol\n"
     ]
    }
   ],
   "source": [
    "text_editor(\"Kolkata\",\"uuuu\")"
   ]
  },
  {
   "cell_type": "code",
   "execution_count": null,
   "id": "b93a6463",
   "metadata": {},
   "outputs": [],
   "source": []
  },
  {
   "cell_type": "code",
   "execution_count": 351,
   "id": "0302b564",
   "metadata": {},
   "outputs": [],
   "source": [
    "L = [\n",
    "    [0,0,1,1],\n",
    "    [0,0,1,0],\n",
    "    [0,0,0,0],\n",
    "    [0,0,1,0]\n",
    "    \n",
    "]"
   ]
  },
  {
   "cell_type": "code",
   "execution_count": 352,
   "id": "d33e1aa0",
   "metadata": {},
   "outputs": [],
   "source": [
    "def find_the_celeb(L):\n",
    "    \n",
    "    s = Stack()\n",
    "    for i in range(len(L)):\n",
    "        s.push(i)\n",
    "        \n",
    "    while s.size() >= 2:\n",
    "        i = s.pop()\n",
    "        j = s.pop()\n",
    "        \n",
    "        if L[i][j]==0:\n",
    "            #j is not a celeb\n",
    "            s.push(i)\n",
    "        else:\n",
    "            #i is not a celeb\n",
    "            s.push(j)\n",
    "    \n",
    "    celeb = s.pop()\n",
    "    for i in range(len(L)):\n",
    "        \n",
    "        if i !=celeb:\n",
    "            if L[i][celeb] == 0 or L[celeb][i] == 1:\n",
    "                print(\"No one is a celebrity\")\n",
    "                return\n",
    "                \n",
    "    \n",
    "    print(\"The celebrity is \", celeb)\n",
    "    \n",
    "    \n",
    "        "
   ]
  },
  {
   "cell_type": "code",
   "execution_count": 353,
   "id": "4e427cb8",
   "metadata": {},
   "outputs": [
    {
     "name": "stdout",
     "output_type": "stream",
     "text": [
      "The celebrity is  2\n"
     ]
    }
   ],
   "source": [
    "find_the_celeb(L)"
   ]
  },
  {
   "cell_type": "code",
   "execution_count": 354,
   "id": "7b339307",
   "metadata": {},
   "outputs": [],
   "source": [
    "def balanced_paranthesis(input):\n",
    "    s = Stack()\n",
    "    \n",
    "    opening_brackets = ['[','{','(']\n",
    "    \n",
    "    closing_brackets = [']','}',')']\n",
    "    \n",
    "    for i in input:\n",
    "        if i not in opening_brackets and i not in closing_brackets:\n",
    "           continue\n",
    "        \n",
    "        if i in opening_brackets:\n",
    "            s.push(i)\n",
    "        \n",
    "        else:\n",
    "            if i in closing_brackets:\n",
    "                if s.size==0:\n",
    "                    return False\n",
    "                index = closing_brackets.index(i)\n",
    "                if s.peek() != opening_brackets[index]:\n",
    "                    return False\n",
    "                s.pop()\n",
    "        \n",
    "    if(s.size()==0):\n",
    "        return True\n",
    "    \n",
    "    return False\n",
    "                    \n",
    "                \n",
    "               \n",
    "        \n",
    "        \n",
    "        \n",
    "    \n",
    "    \n",
    "    \n",
    "    "
   ]
  },
  {
   "cell_type": "code",
   "execution_count": 355,
   "id": "a058a35e",
   "metadata": {},
   "outputs": [
    {
     "data": {
      "text/plain": [
       "False"
      ]
     },
     "execution_count": 355,
     "metadata": {},
     "output_type": "execute_result"
    }
   ],
   "source": [
    "balanced_paranthesis(\"[(a+b)*(c+d)}]\")"
   ]
  },
  {
   "cell_type": "code",
   "execution_count": 377,
   "id": "df47486e",
   "metadata": {},
   "outputs": [],
   "source": [
    "class Queue:\n",
    "    \n",
    "    def __init__(self):\n",
    "        self.s1=Stack()\n",
    "        self.s2=Stack()\n",
    "        \n",
    "    def enque(self,value):\n",
    "        self.s1.push(value)\n",
    "        \n",
    "    \n",
    "    def dequeue(self):\n",
    "        if self.s2.isempty():\n",
    "            if self.s1.isempty():\n",
    "                print(\"Queue is empty\")\n",
    "                \n",
    "            else:\n",
    "                while (not self.s1.isempty()):\n",
    "                    data=self.s1.pop()\n",
    "                    self.s2.push(data)\n",
    "                print(self.s2.pop())\n",
    "                    \n",
    "        \n",
    "        else:\n",
    "            print(self.s2.pop())\n",
    "                \n",
    "        \n",
    "        \n",
    "        \n",
    "        \n",
    "    \n",
    "    "
   ]
  },
  {
   "cell_type": "code",
   "execution_count": 378,
   "id": "5f17c961",
   "metadata": {},
   "outputs": [],
   "source": [
    "Q=Queue()"
   ]
  },
  {
   "cell_type": "code",
   "execution_count": 385,
   "id": "07b516f6",
   "metadata": {},
   "outputs": [],
   "source": [
    "Q.enque(3)\n",
    "Q.enque(4)\n",
    "Q.enque(5)"
   ]
  },
  {
   "cell_type": "code",
   "execution_count": 389,
   "id": "02401cc4",
   "metadata": {},
   "outputs": [
    {
     "name": "stdout",
     "output_type": "stream",
     "text": [
      "Queue is empty\n"
     ]
    }
   ],
   "source": [
    "Q.dequeue()"
   ]
  },
  {
   "cell_type": "code",
   "execution_count": null,
   "id": "30f4815f",
   "metadata": {},
   "outputs": [],
   "source": []
  },
  {
   "cell_type": "code",
   "execution_count": null,
   "id": "3e2b62e7",
   "metadata": {},
   "outputs": [],
   "source": []
  }
 ],
 "metadata": {
  "kernelspec": {
   "display_name": "Python 3 (ipykernel)",
   "language": "python",
   "name": "python3"
  },
  "language_info": {
   "codemirror_mode": {
    "name": "ipython",
    "version": 3
   },
   "file_extension": ".py",
   "mimetype": "text/x-python",
   "name": "python",
   "nbconvert_exporter": "python",
   "pygments_lexer": "ipython3",
   "version": "3.9.16"
  }
 },
 "nbformat": 4,
 "nbformat_minor": 5
}
